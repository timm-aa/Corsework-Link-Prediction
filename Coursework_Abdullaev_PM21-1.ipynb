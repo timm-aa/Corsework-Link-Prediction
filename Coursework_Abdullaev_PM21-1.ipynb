{
 "cells": [
  {
   "cell_type": "markdown",
   "id": "3d93570c",
   "metadata": {},
   "source": [
    "<p style=\"color:black;font-size:220%;text-align:center;\"><strong>Построение рекомендательной системы в области закупок с учетом характеристик контракта"
   ]
  },
  {
   "cell_type": "markdown",
   "id": "e118f9ca",
   "metadata": {},
   "source": [
    "# Разделы: <a class=\"anchor\" id=\"0\"></a>\n",
    "\n",
    "* [1. Введение](#1) \n",
    "* [2. Импорт библиотек](#2) \n",
    "\n",
    "* [3. Сбор датасета](#3)\n",
    "    * [3.1. Сбор ИНН участников](#3.1)\n",
    "    * [3.2. Функции для сбора остальной информации](#3.2)\n",
    "    * [3.3. Сбор характеристики связей между контрагентами](#3.3)\n",
    "    * [3.4. Сбор характеристики контрагентов](#3.4)\n",
    "    * [3.5. Лемматизация](#3.5)\n",
    "       \n",
    "* [4. Анализ данных](#4)\n",
    "\n",
    "* [5. Векторизация](#5)\n",
    "\n",
    "* [6. Построение графа](#6)\n",
    "\n",
    "* [7. Разделение на обучающую и тестовую выборки](#7)\n",
    "\n",
    "* [8. Обучение](#8)\n",
    "    * [8.1. GraphSAGE](#8.1)\n",
    "        * [8.1.1. DotPredictor](#8.1.1)\n",
    "        * [8.1.2. MLPPredictor](#8.1.2)\n",
    "    * [8.2. GCN](#8.2)\n",
    "        * [8.2.1. DotPredictor](#8.2)\n",
    "        * [8.2.2. MLPPredictor](#8.2.2)\n",
    "* [9. Сравнение результатов](#9)\n",
    "* [10. Заключение](#10)"
   ]
  },
  {
   "cell_type": "markdown",
   "id": "9e559b0a",
   "metadata": {},
   "source": [
    "<a id=\"1\"></a>\n",
    "# <b><span style='color:blue'>|</span> 1. Введение</b>\n",
    "* [К оглавлению](#0)"
   ]
  },
  {
   "cell_type": "markdown",
   "id": "88bcc4d5",
   "metadata": {},
   "source": [
    "    В современном мире рекомендательные системы используются в различных сферах, включая коммерцию, образование, медицину и государственное управление. В сфере закупок рекомендательные системы могут повысить эффективность выбора контрактных предложений, сократить временные затраты и снизить риски при заключении контрактов.\n",
    "\n",
    "    Для построения рекомендательной системы важно учитывать конкретные характеристики контрактов, такие как объекты закупок, цены и сроки исполнения. Учитывание характеристик контракта приведут к верным рекомендациям, которые удовлетворяют потребности заказчика и соответствуют специфике отрасли.\n",
    "\n",
    "    Цель данной курсовой работы заключается в разработке рекомендательной системы, которая учитывает характеристики контрактов и предоставляет заказчикам релевантные рекомендации. Для достижения этой цели будут использоваться методы машинного обучения и графовых баз данных, а также различные техники обработки данных и анализа текста.\n",
    "\n",
    "    Задачи, которые будут решаться в рамках данной работы, включают в себя сбор и обработку данных о контрактах, построения графа знаний, разработку алгоритмов машинного обучения для построения рекомендаций, а также оценку качества разработанной системы с помощью метрик."
   ]
  },
  {
   "cell_type": "markdown",
   "id": "8466619f",
   "metadata": {},
   "source": [
    "<a id=\"2\"></a>\n",
    "# <b><span style='color:blue'>|</span> 2. Импорт библиотек</b>\n",
    "* [К оглавлению](#0)"
   ]
  },
  {
   "cell_type": "code",
   "execution_count": 389,
   "id": "9fab2a54",
   "metadata": {},
   "outputs": [],
   "source": [
    "import warnings\n",
    "warnings.filterwarnings(\"ignore\")\n",
    "\n",
    "import pandas as pd\n",
    "import numpy as np\n",
    "import matplotlib.pyplot as plt\n",
    "import seaborn as sns\n",
    "import pandas as pd\n",
    "\n",
    "from zipfile import ZipFile\n",
    "import re\n",
    "import os\n",
    "import requests\n",
    "from bs4 import BeautifulSoup\n",
    "from urllib.parse import urlencode\n",
    "import dask.bag as db\n",
    "from dask.diagnostics import ProgressBar\n",
    "\n",
    "import nltk\n",
    "from nltk.corpus import stopwords\n",
    "from collections import Counter\n",
    "import pymorphy2\n",
    "\n",
    "import torch\n",
    "import torch.nn.functional as F\n",
    "import dgl\n",
    "import networkx as nx\n",
    "import scipy.sparse as sp\n",
    "import torch.nn as nn\n",
    "import itertools\n",
    "import dgl.function as fn\n",
    "from dgl.nn import SAGEConv\n",
    "from dgl.nn import GraphConv\n",
    "from dgl.nn import GATConv\n",
    "\n",
    "from sklearn.feature_extraction.text import TfidfVectorizer\n",
    "from sklearn.metrics import roc_auc_score\n",
    "from sklearn.metrics import f1_score\n",
    "from sklearn.metrics import accuracy_score\n",
    "from sklearn.metrics import confusion_matrix"
   ]
  },
  {
   "cell_type": "markdown",
   "id": "f8ff4067",
   "metadata": {},
   "source": [
    "<a id=\"3\"></a>\n",
    "# <b><span style='color:blue'>|</span> 3. Сбор датасета</b>\n",
    "* [К оглавлению](#0)"
   ]
  },
  {
   "cell_type": "markdown",
   "id": "6464278a",
   "metadata": {},
   "source": [
    "<a id=\"3.1\"></a>\n",
    "### <b><span style='color:blue'>|</span> 3.1. Сбор ИНН участников</b>"
   ]
  },
  {
   "cell_type": "markdown",
   "id": "e60fc753",
   "metadata": {},
   "source": [
    "Имеются архив ZIP и папка, имеющие протоколы разных форматов. Названия файлов содержат ИНН участников закупок (\\[ИНН участника]_...), которые являются основой построения рекомендательной системы. Они отбираются с помощью функции TIN."
   ]
  },
  {
   "cell_type": "code",
   "execution_count": 2,
   "id": "1a1d220d",
   "metadata": {},
   "outputs": [],
   "source": [
    "@np.vectorize\n",
    "def TIN(filename: str) -> str:\n",
    "    try: # в случае если попался не файл с закупкой\n",
    "        new_file_name = re.match(r'[0-9]{9,}', filename).group(0)\n",
    "        if len(new_file_name) == 9:\n",
    "            return '0' + new_file_name\n",
    "        else:\n",
    "            return new_file_name\n",
    "    except AttributeError:\n",
    "        return np.nan"
   ]
  },
  {
   "cell_type": "code",
   "execution_count": 3,
   "id": "04e2f1ed",
   "metadata": {},
   "outputs": [],
   "source": [
    "folder = \"D:\\УЧЕБА\\курсовая работа\\протоколы_ГосЗакупки_2\"\n",
    "file_names2 = np.array(os.listdir(folder))\n",
    "with ZipFile(r\"D:\\УЧЕБА\\курсовая работа\\протоколы_ГосЗакупки.zip\", 'r') as zip:\n",
    "    file_names1 = np.array(zip.namelist())\n",
    "file_names = np.concatenate((file_names1, file_names2))"
   ]
  },
  {
   "cell_type": "code",
   "execution_count": 4,
   "id": "fdb2834e",
   "metadata": {},
   "outputs": [
    {
     "name": "stdout",
     "output_type": "stream",
     "text": [
      "Wall time: 5.02 ms\n"
     ]
    },
    {
     "data": {
      "text/plain": [
       "['0256006322', '0268008010', '0268069694', '0270007455', '0274110679']"
      ]
     },
     "execution_count": 4,
     "metadata": {},
     "output_type": "execute_result"
    }
   ],
   "source": [
    "%%time\n",
    "tins = np.unique(TIN(file_names)).tolist()\n",
    "tins[:5]"
   ]
  },
  {
   "cell_type": "markdown",
   "id": "e1bc070d",
   "metadata": {},
   "source": [
    "<a id=\"3.2\"></a>\n",
    "### <b><span style='color:blue'>|</span> 3.2. Функции для сбора остальной информации</b>"
   ]
  },
  {
   "cell_type": "markdown",
   "id": "82c1a1fd",
   "metadata": {},
   "source": [
    "На сайте zakupki.gov.ru, содержащий историю закупок контрагентов, рассматриваются до 50 (включительно) закупок каждого участника, в каждой из которых отбираются начальная цена закупки, объект закупки и ИНН заказчика."
   ]
  },
  {
   "cell_type": "code",
   "execution_count": 23,
   "id": "8741092e",
   "metadata": {},
   "outputs": [],
   "source": [
    "def find_characteristics(tin):\n",
    "    list_characts = []\n",
    "    headers = {'User-Agent': 'Mozilla/5.0 (Windows NT 10.0; Win64; x64) AppleWebKit/537.36 (KHTML, like Gecko) Chrome/58.0.3029.110 Safari/537.36'}\n",
    "    params = {\n",
    "        'pageNumber': 1,\n",
    "        'search-filter': 'Дата размещения',\n",
    "        'fz44': 'on',\n",
    "        'fz223': 'on',\n",
    "        'participantName': tin,\n",
    "        'sortBy': 'UPDATE_DATE',\n",
    "        'recordsPerPage': '_50',\n",
    "    }\n",
    "    base_url = 'https://zakupki.gov.ru/epz/order/extendedsearch/results.html?'\n",
    "    url = base_url + urlencode(params)\n",
    "    with requests.get(url, headers=headers) as response:\n",
    "        response.raise_for_status()\n",
    "        soup = BeautifulSoup(response.content, 'lxml')\n",
    "        s_pr = soup.find_all('div', class_='price-block__value')\n",
    "        s_numb = soup.find_all('div', class_='registry-entry__header-mid__number')\n",
    "        s_links = soup.find_all('div', class_='registry-entry__body-href')\n",
    "        for card in range(min(len(s_pr), len(s_numb))):\n",
    "            if s_pr[card] != [] and s_numb[card] != [] and s_links[card] != []:\n",
    "                cost = str(''.join(re.findall(r'\\d|,', str(s_pr[card].contents[0]))).replace(',', '.'))\n",
    "                number = str(re.search(r'\\d+', s_numb[card].a.contents[0]).group(0))\n",
    "                link = 'https://zakupki.gov.ru/' + s_links[card].a['href']\n",
    "                list_characts.append([number, tin, cost, link])\n",
    "            else:\n",
    "                list_characts.append([np.nan, np.nan, np.nan, np.nan])\n",
    "    return list_characts"
   ]
  },
  {
   "cell_type": "code",
   "execution_count": 24,
   "id": "7ddb7c53",
   "metadata": {},
   "outputs": [],
   "source": [
    "def find_tin_cust(row):\n",
    "    try:\n",
    "        headers = {'User-Agent': 'Mozilla/5.0 (Windows NT 10.0; Win64; x64) AppleWebKit/537.36 (KHTML, like Gecko) Chrome/58.0.3029.110 Safari/537.36'}\n",
    "        with requests.get(row[2], headers=headers) as response:\n",
    "            response.raise_for_status()\n",
    "            soup1 = BeautifulSoup(response.text, \"lxml\")\n",
    "            s1 = soup1.find_all('div', class_ ='registry-entry__body-value')\n",
    "            row_tin_cust = [row[0], row[1], str(s1[2].contents[0])]\n",
    "    except:\n",
    "        row_tin_cust = [np.nan, np.nan, np.nan]\n",
    "    return row_tin_cust"
   ]
  },
  {
   "cell_type": "code",
   "execution_count": 25,
   "id": "cffaf7b5",
   "metadata": {},
   "outputs": [],
   "source": [
    "def find_objects(tin):\n",
    "    list_objs = []\n",
    "    headers = {'User-Agent': 'Mozilla/5.0 (Windows NT 10.0; Win64; x64) AppleWebKit/537.36 (KHTML, like Gecko) Chrome/58.0.3029.110 Safari/537.36'}\n",
    "    params = {\n",
    "        'pageNumber': 1,\n",
    "        'search-filter': 'Дата размещения',\n",
    "        'fz44': 'on',\n",
    "        'fz223': 'on',\n",
    "        'participantName': tin,\n",
    "        'sortBy': 'UPDATE_DATE',\n",
    "        'recordsPerPage': '_20',\n",
    "    }\n",
    "    base_url = 'https://zakupki.gov.ru/epz/order/extendedsearch/results.html?'\n",
    "    url = base_url + urlencode(params)\n",
    "    with requests.get(url, headers=headers) as response:\n",
    "        response.raise_for_status()\n",
    "        soup = BeautifulSoup(response.content, 'lxml')\n",
    "        s_obj = soup.find_all('div', class_='registry-entry__body-value')\n",
    "        for card in range(len(s_obj)):\n",
    "            if s_obj[card] != []:\n",
    "                object_ = str(s_obj[card].contents[0])\n",
    "                list_objs.append(object_)\n",
    "            else:\n",
    "                list_objs.append(np.nan)\n",
    "    return [tin, list_objs]"
   ]
  },
  {
   "cell_type": "markdown",
   "id": "8a0b9a30",
   "metadata": {},
   "source": [
    "<a id=\"3.3\"></a>\n",
    "### <b><span style='color:blue'>|</span> 3.3. Сбор характеристики связей между контрагентами</b>"
   ]
  },
  {
   "cell_type": "markdown",
   "id": "24d65f99",
   "metadata": {},
   "source": [
    "Для ускорения процесса сбора датасета используется dask.bag, который в свою очередь использует мультипроцессинг. Данные конвертируется в датафрейм, содержащий ссылку на ИНН заказчиков. Так как bag **неупорядоченная коллекция**, для получения ИНН заказчика также используются ID и ИНН участника, потому что вместе они уникальны в таблице. Затем данные конкатенируются, исключаются строки, содержащие пустоты. Таблица используется для задания свойств рёбер.\n",
    "Сбор данных был разделён на две функции в целях ускорения и оптимизации."
   ]
  },
  {
   "cell_type": "code",
   "execution_count": 12,
   "id": "7614b567",
   "metadata": {},
   "outputs": [
    {
     "name": "stdout",
     "output_type": "stream",
     "text": [
      "[########################################] | 100% Completed | 56.41 s\n"
     ]
    }
   ],
   "source": [
    "with ProgressBar():\n",
    "    list_characts = db.from_sequence(tins).map(find_characteristics).compute()"
   ]
  },
  {
   "cell_type": "code",
   "execution_count": 13,
   "id": "44968aed",
   "metadata": {},
   "outputs": [
    {
     "data": {
      "text/html": [
       "<div>\n",
       "<style scoped>\n",
       "    .dataframe tbody tr th:only-of-type {\n",
       "        vertical-align: middle;\n",
       "    }\n",
       "\n",
       "    .dataframe tbody tr th {\n",
       "        vertical-align: top;\n",
       "    }\n",
       "\n",
       "    .dataframe thead th {\n",
       "        text-align: right;\n",
       "    }\n",
       "</style>\n",
       "<table border=\"1\" class=\"dataframe\">\n",
       "  <thead>\n",
       "    <tr style=\"text-align: right;\">\n",
       "      <th></th>\n",
       "      <th>ID</th>\n",
       "      <th>TIN of Participant</th>\n",
       "      <th>Initial Price</th>\n",
       "      <th>Link to Customers TIN</th>\n",
       "    </tr>\n",
       "  </thead>\n",
       "  <tbody>\n",
       "    <tr>\n",
       "      <th>0</th>\n",
       "      <td>32211557847</td>\n",
       "      <td>0256006322</td>\n",
       "      <td>9483808.33</td>\n",
       "      <td>https://zakupki.gov.ru//epz/organization/view2...</td>\n",
       "    </tr>\n",
       "    <tr>\n",
       "      <th>1</th>\n",
       "      <td>32110296447</td>\n",
       "      <td>0256006322</td>\n",
       "      <td>3240000.00</td>\n",
       "      <td>https://zakupki.gov.ru//epz/organization/view2...</td>\n",
       "    </tr>\n",
       "    <tr>\n",
       "      <th>2</th>\n",
       "      <td>32110068299</td>\n",
       "      <td>0256006322</td>\n",
       "      <td>8785370.84</td>\n",
       "      <td>https://zakupki.gov.ru//epz/organization/view2...</td>\n",
       "    </tr>\n",
       "    <tr>\n",
       "      <th>3</th>\n",
       "      <td>32009647275</td>\n",
       "      <td>0256006322</td>\n",
       "      <td>137760.00</td>\n",
       "      <td>https://zakupki.gov.ru//epz/organization/view2...</td>\n",
       "    </tr>\n",
       "    <tr>\n",
       "      <th>4</th>\n",
       "      <td>32009347076</td>\n",
       "      <td>0256006322</td>\n",
       "      <td>4431008.33</td>\n",
       "      <td>https://zakupki.gov.ru//epz/organization/view2...</td>\n",
       "    </tr>\n",
       "  </tbody>\n",
       "</table>\n",
       "</div>"
      ],
      "text/plain": [
       "            ID TIN of Participant Initial Price  \\\n",
       "0  32211557847         0256006322    9483808.33   \n",
       "1  32110296447         0256006322    3240000.00   \n",
       "2  32110068299         0256006322    8785370.84   \n",
       "3  32009647275         0256006322     137760.00   \n",
       "4  32009347076         0256006322    4431008.33   \n",
       "\n",
       "                               Link to Customers TIN  \n",
       "0  https://zakupki.gov.ru//epz/organization/view2...  \n",
       "1  https://zakupki.gov.ru//epz/organization/view2...  \n",
       "2  https://zakupki.gov.ru//epz/organization/view2...  \n",
       "3  https://zakupki.gov.ru//epz/organization/view2...  \n",
       "4  https://zakupki.gov.ru//epz/organization/view2...  "
      ]
     },
     "execution_count": 13,
     "metadata": {},
     "output_type": "execute_result"
    }
   ],
   "source": [
    "data_links = pd.DataFrame({'Characteristics': list_characts}).explode('Characteristics').reset_index(drop=True)\n",
    "new_cols = data_links['Characteristics'].apply(pd.Series)\n",
    "new_cols.columns = ['ID', 'TIN of Participant', 'Initial Price', 'Link to Customers TIN']\n",
    "data_links = pd.concat([data_links.drop('Characteristics', axis=1), new_cols], axis=1)\n",
    "data_links.head()"
   ]
  },
  {
   "cell_type": "code",
   "execution_count": 14,
   "id": "e912ff75",
   "metadata": {},
   "outputs": [
    {
     "data": {
      "text/plain": [
       "(13566, 4)"
      ]
     },
     "execution_count": 14,
     "metadata": {},
     "output_type": "execute_result"
    }
   ],
   "source": [
    "data_links.shape"
   ]
  },
  {
   "cell_type": "code",
   "execution_count": 15,
   "id": "c36e5582",
   "metadata": {},
   "outputs": [
    {
     "data": {
      "text/plain": [
       "(13566, 4)"
      ]
     },
     "execution_count": 15,
     "metadata": {},
     "output_type": "execute_result"
    }
   ],
   "source": [
    "data_links.drop_duplicates(subset=['ID', 'TIN of Participant']).shape"
   ]
  },
  {
   "cell_type": "code",
   "execution_count": 16,
   "id": "6096bf11",
   "metadata": {},
   "outputs": [],
   "source": [
    "data_for_cust_tins = data_links[['ID', 'TIN of Participant', 'Link to Customers TIN']]"
   ]
  },
  {
   "cell_type": "code",
   "execution_count": 17,
   "id": "ea26930b",
   "metadata": {
    "scrolled": true
   },
   "outputs": [
    {
     "name": "stdout",
     "output_type": "stream",
     "text": [
      "[########################################] | 100% Completed | 15m 14s\n"
     ]
    }
   ],
   "source": [
    "with ProgressBar():\n",
    "    cust_tins = db.from_sequence(data_for_cust_tins.values.tolist()).map(find_tin_cust).compute()"
   ]
  },
  {
   "cell_type": "code",
   "execution_count": 18,
   "id": "931d7b08",
   "metadata": {},
   "outputs": [
    {
     "data": {
      "text/html": [
       "<div>\n",
       "<style scoped>\n",
       "    .dataframe tbody tr th:only-of-type {\n",
       "        vertical-align: middle;\n",
       "    }\n",
       "\n",
       "    .dataframe tbody tr th {\n",
       "        vertical-align: top;\n",
       "    }\n",
       "\n",
       "    .dataframe thead th {\n",
       "        text-align: right;\n",
       "    }\n",
       "</style>\n",
       "<table border=\"1\" class=\"dataframe\">\n",
       "  <thead>\n",
       "    <tr style=\"text-align: right;\">\n",
       "      <th></th>\n",
       "      <th>ID</th>\n",
       "      <th>TIN of Participant</th>\n",
       "      <th>TIN of Customer</th>\n",
       "    </tr>\n",
       "  </thead>\n",
       "  <tbody>\n",
       "    <tr>\n",
       "      <th>0</th>\n",
       "      <td>32211557847</td>\n",
       "      <td>0256006322</td>\n",
       "      <td>2709001590</td>\n",
       "    </tr>\n",
       "    <tr>\n",
       "      <th>1</th>\n",
       "      <td>32110296447</td>\n",
       "      <td>0256006322</td>\n",
       "      <td>2709001590</td>\n",
       "    </tr>\n",
       "    <tr>\n",
       "      <th>2</th>\n",
       "      <td>32110068299</td>\n",
       "      <td>0256006322</td>\n",
       "      <td>2709001590</td>\n",
       "    </tr>\n",
       "    <tr>\n",
       "      <th>3</th>\n",
       "      <td>32009647275</td>\n",
       "      <td>0256006322</td>\n",
       "      <td>2531002070</td>\n",
       "    </tr>\n",
       "    <tr>\n",
       "      <th>4</th>\n",
       "      <td>32009347076</td>\n",
       "      <td>0256006322</td>\n",
       "      <td>2709001590</td>\n",
       "    </tr>\n",
       "    <tr>\n",
       "      <th>...</th>\n",
       "      <td>...</td>\n",
       "      <td>...</td>\n",
       "      <td>...</td>\n",
       "    </tr>\n",
       "    <tr>\n",
       "      <th>13561</th>\n",
       "      <td>0864500000223000849</td>\n",
       "      <td>nan</td>\n",
       "      <td>6829128395</td>\n",
       "    </tr>\n",
       "    <tr>\n",
       "      <th>13562</th>\n",
       "      <td>0864500000223000860</td>\n",
       "      <td>nan</td>\n",
       "      <td>6829128395</td>\n",
       "    </tr>\n",
       "    <tr>\n",
       "      <th>13563</th>\n",
       "      <td>0864500000223000859</td>\n",
       "      <td>nan</td>\n",
       "      <td>6829128395</td>\n",
       "    </tr>\n",
       "    <tr>\n",
       "      <th>13564</th>\n",
       "      <td>0864500000223000854</td>\n",
       "      <td>nan</td>\n",
       "      <td>6829128395</td>\n",
       "    </tr>\n",
       "    <tr>\n",
       "      <th>13565</th>\n",
       "      <td>0864500000223000847</td>\n",
       "      <td>nan</td>\n",
       "      <td>6829128395</td>\n",
       "    </tr>\n",
       "  </tbody>\n",
       "</table>\n",
       "<p>13566 rows × 3 columns</p>\n",
       "</div>"
      ],
      "text/plain": [
       "                        ID TIN of Participant TIN of Customer\n",
       "0              32211557847         0256006322      2709001590\n",
       "1              32110296447         0256006322      2709001590\n",
       "2              32110068299         0256006322      2709001590\n",
       "3              32009647275         0256006322      2531002070\n",
       "4              32009347076         0256006322      2709001590\n",
       "...                    ...                ...             ...\n",
       "13561  0864500000223000849                nan      6829128395\n",
       "13562  0864500000223000860                nan      6829128395\n",
       "13563  0864500000223000859                nan      6829128395\n",
       "13564  0864500000223000854                nan      6829128395\n",
       "13565  0864500000223000847                nan      6829128395\n",
       "\n",
       "[13566 rows x 3 columns]"
      ]
     },
     "execution_count": 18,
     "metadata": {},
     "output_type": "execute_result"
    }
   ],
   "source": [
    "data_tins = pd.DataFrame({'Info': cust_tins})\n",
    "new_cols = data_tins['Info'].apply(pd.Series)\n",
    "new_cols.columns = ['ID', 'TIN of Participant', 'TIN of Customer']\n",
    "data_tins = pd.concat([data_tins.drop('Info', axis=1), new_cols], axis=1)\n",
    "data_tins"
   ]
  },
  {
   "cell_type": "code",
   "execution_count": 30,
   "id": "a0c3e738",
   "metadata": {},
   "outputs": [
    {
     "data": {
      "text/html": [
       "<div>\n",
       "<style scoped>\n",
       "    .dataframe tbody tr th:only-of-type {\n",
       "        vertical-align: middle;\n",
       "    }\n",
       "\n",
       "    .dataframe tbody tr th {\n",
       "        vertical-align: top;\n",
       "    }\n",
       "\n",
       "    .dataframe thead th {\n",
       "        text-align: right;\n",
       "    }\n",
       "</style>\n",
       "<table border=\"1\" class=\"dataframe\">\n",
       "  <thead>\n",
       "    <tr style=\"text-align: right;\">\n",
       "      <th></th>\n",
       "      <th>ID</th>\n",
       "      <th>TIN of Participant</th>\n",
       "      <th>Initial Price</th>\n",
       "      <th>TIN of Customer</th>\n",
       "    </tr>\n",
       "  </thead>\n",
       "  <tbody>\n",
       "    <tr>\n",
       "      <th>0</th>\n",
       "      <td>32211557847</td>\n",
       "      <td>0256006322</td>\n",
       "      <td>9483808.33</td>\n",
       "      <td>2709001590</td>\n",
       "    </tr>\n",
       "    <tr>\n",
       "      <th>1</th>\n",
       "      <td>32110296447</td>\n",
       "      <td>0256006322</td>\n",
       "      <td>3240000.00</td>\n",
       "      <td>2709001590</td>\n",
       "    </tr>\n",
       "    <tr>\n",
       "      <th>2</th>\n",
       "      <td>32110068299</td>\n",
       "      <td>0256006322</td>\n",
       "      <td>8785370.84</td>\n",
       "      <td>2709001590</td>\n",
       "    </tr>\n",
       "    <tr>\n",
       "      <th>3</th>\n",
       "      <td>32009647275</td>\n",
       "      <td>0256006322</td>\n",
       "      <td>137760.00</td>\n",
       "      <td>2531002070</td>\n",
       "    </tr>\n",
       "    <tr>\n",
       "      <th>4</th>\n",
       "      <td>32009347076</td>\n",
       "      <td>0256006322</td>\n",
       "      <td>4431008.33</td>\n",
       "      <td>2709001590</td>\n",
       "    </tr>\n",
       "  </tbody>\n",
       "</table>\n",
       "</div>"
      ],
      "text/plain": [
       "            ID TIN of Participant Initial Price TIN of Customer\n",
       "0  32211557847         0256006322    9483808.33      2709001590\n",
       "1  32110296447         0256006322    3240000.00      2709001590\n",
       "2  32110068299         0256006322    8785370.84      2709001590\n",
       "3  32009647275         0256006322     137760.00      2531002070\n",
       "4  32009347076         0256006322    4431008.33      2709001590"
      ]
     },
     "execution_count": 30,
     "metadata": {},
     "output_type": "execute_result"
    }
   ],
   "source": [
    "finish_data = pd.merge(data_links, data_tins, on=['ID', 'TIN of Participant'])\n",
    "finish_data = finish_data.drop('Link to Customers TIN', axis=1)\n",
    "finish_data.dropna(inplace=True)\n",
    "finish_data.head()"
   ]
  },
  {
   "cell_type": "code",
   "execution_count": 31,
   "id": "4caa40c9",
   "metadata": {},
   "outputs": [],
   "source": [
    "finish_data.to_csv('data_for_edges.csv', index=False)"
   ]
  },
  {
   "cell_type": "markdown",
   "id": "5aa3ed78",
   "metadata": {},
   "source": [
    "<a id=\"3.4\"></a>\n",
    "### <b><span style='color:blue'>|</span> 3.4. Сбор характеристики контрагентов</b>"
   ]
  },
  {
   "cell_type": "markdown",
   "id": "ebdefffc",
   "metadata": {},
   "source": [
    "На основе полученной таблицы data_for_edges собираются и сортируются все ИНН контрагентов. У каждого рассматриваются до 20 (включительно) объектов в совершенных закупок."
   ]
  },
  {
   "cell_type": "code",
   "execution_count": 36,
   "id": "46c0d035",
   "metadata": {},
   "outputs": [
    {
     "data": {
      "text/plain": [
       "array([105018196, 105020004, 202008210, 207006200, 207007690], dtype=int64)"
      ]
     },
     "execution_count": 36,
     "metadata": {},
     "output_type": "execute_result"
    }
   ],
   "source": [
    "data = pd.read_csv('data_for_edges.csv')\n",
    "all_tins = pd.concat([data['TIN of Participant'], data['TIN of Customer']]).unique()\n",
    "all_tins.sort()\n",
    "all_tins[:5]"
   ]
  },
  {
   "cell_type": "code",
   "execution_count": 63,
   "id": "fcedbb4e",
   "metadata": {},
   "outputs": [
    {
     "name": "stdout",
     "output_type": "stream",
     "text": [
      "[########################################] | 100% Completed | 571.48 s\n"
     ]
    }
   ],
   "source": [
    "with ProgressBar():\n",
    "    list_objects = db.from_sequence(all_tins).map(find_objects).compute()"
   ]
  },
  {
   "cell_type": "code",
   "execution_count": 120,
   "id": "790b6c6a",
   "metadata": {},
   "outputs": [
    {
     "data": {
      "text/html": [
       "<div>\n",
       "<style scoped>\n",
       "    .dataframe tbody tr th:only-of-type {\n",
       "        vertical-align: middle;\n",
       "    }\n",
       "\n",
       "    .dataframe tbody tr th {\n",
       "        vertical-align: top;\n",
       "    }\n",
       "\n",
       "    .dataframe thead th {\n",
       "        text-align: right;\n",
       "    }\n",
       "</style>\n",
       "<table border=\"1\" class=\"dataframe\">\n",
       "  <thead>\n",
       "    <tr style=\"text-align: right;\">\n",
       "      <th></th>\n",
       "      <th>TIN</th>\n",
       "      <th>Purchase Object</th>\n",
       "    </tr>\n",
       "  </thead>\n",
       "  <tbody>\n",
       "    <tr>\n",
       "      <th>0</th>\n",
       "      <td>105018196</td>\n",
       "      <td>[Услуги по техническому обслуживанию газового ...</td>\n",
       "    </tr>\n",
       "    <tr>\n",
       "      <th>1</th>\n",
       "      <td>105020004</td>\n",
       "      <td>[Оказание услуг по повышению квалификации: цик...</td>\n",
       "    </tr>\n",
       "    <tr>\n",
       "      <th>2</th>\n",
       "      <td>202008210</td>\n",
       "      <td>[]</td>\n",
       "    </tr>\n",
       "    <tr>\n",
       "      <th>3</th>\n",
       "      <td>207006200</td>\n",
       "      <td>[]</td>\n",
       "    </tr>\n",
       "    <tr>\n",
       "      <th>4</th>\n",
       "      <td>207007690</td>\n",
       "      <td>[]</td>\n",
       "    </tr>\n",
       "    <tr>\n",
       "      <th>...</th>\n",
       "      <td>...</td>\n",
       "      <td>...</td>\n",
       "    </tr>\n",
       "    <tr>\n",
       "      <th>3901</th>\n",
       "      <td>9710042298</td>\n",
       "      <td>[Разработка проектов границ территорий и проек...</td>\n",
       "    </tr>\n",
       "    <tr>\n",
       "      <th>3902</th>\n",
       "      <td>9715226210</td>\n",
       "      <td>[]</td>\n",
       "    </tr>\n",
       "    <tr>\n",
       "      <th>3903</th>\n",
       "      <td>9729030514</td>\n",
       "      <td>[запрос предложений в электронной форме по отб...</td>\n",
       "    </tr>\n",
       "    <tr>\n",
       "      <th>3904</th>\n",
       "      <td>9901000235</td>\n",
       "      <td>[Предоставление Ресурсоснабжающей организацией...</td>\n",
       "    </tr>\n",
       "    <tr>\n",
       "      <th>3905</th>\n",
       "      <td>9901033738</td>\n",
       "      <td>[]</td>\n",
       "    </tr>\n",
       "  </tbody>\n",
       "</table>\n",
       "<p>3906 rows × 2 columns</p>\n",
       "</div>"
      ],
      "text/plain": [
       "             TIN                                    Purchase Object\n",
       "0      105018196  [Услуги по техническому обслуживанию газового ...\n",
       "1      105020004  [Оказание услуг по повышению квалификации: цик...\n",
       "2      202008210                                                 []\n",
       "3      207006200                                                 []\n",
       "4      207007690                                                 []\n",
       "...          ...                                                ...\n",
       "3901  9710042298  [Разработка проектов границ территорий и проек...\n",
       "3902  9715226210                                                 []\n",
       "3903  9729030514  [запрос предложений в электронной форме по отб...\n",
       "3904  9901000235  [Предоставление Ресурсоснабжающей организацией...\n",
       "3905  9901033738                                                 []\n",
       "\n",
       "[3906 rows x 2 columns]"
      ]
     },
     "execution_count": 120,
     "metadata": {},
     "output_type": "execute_result"
    }
   ],
   "source": [
    "data_objs = pd.DataFrame(list_objects, columns=['TIN', 'Purchase Object'])\n",
    "data_objs"
   ]
  },
  {
   "cell_type": "markdown",
   "id": "9ae33616",
   "metadata": {},
   "source": [
    "<a id=\"3.5\"></a>\n",
    "### <b><span style='color:blue'>|</span> 3.5. Лемматизация</b>"
   ]
  },
  {
   "cell_type": "markdown",
   "id": "56273a7d",
   "metadata": {},
   "source": [
    "Объекты каждого контрагента лемматизируются и соединяются в одну строку. Далее отбираются 8 слов в строке, которые встречаются чаще всего. Получаем таблицу, состоящую из ИНН контрагента и ограниченного списка слов из лемматизированных объектов. Таблица используется в качестве задания свтойств вершин будущего графа."
   ]
  },
  {
   "cell_type": "code",
   "execution_count": 79,
   "id": "07c5ffec",
   "metadata": {},
   "outputs": [],
   "source": [
    "stop_words = set(stopwords.words('russian'))"
   ]
  },
  {
   "cell_type": "code",
   "execution_count": 112,
   "id": "4da0edbb",
   "metadata": {},
   "outputs": [],
   "source": [
    "def lemmatize_text(lst):\n",
    "    new_lst = []\n",
    "    for text in lst:\n",
    "        text = re.sub(r'[^\\w\\s]', '', text)\n",
    "        lemmas = []\n",
    "        for word in text.split():\n",
    "            if word not in stop_words:\n",
    "                parsed_word = morph.parse(word)[0]\n",
    "                lemma = parsed_word.normal_form\n",
    "                lemmas.append(lemma)\n",
    "        new_lst.append(' '.join(lemmas))\n",
    "    return ' '.join(new_lst).split()\n",
    "morph = pymorphy2.MorphAnalyzer()"
   ]
  },
  {
   "cell_type": "code",
   "execution_count": 121,
   "id": "4e9f7a47",
   "metadata": {},
   "outputs": [
    {
     "name": "stdout",
     "output_type": "stream",
     "text": [
      "Wall time: 1min 23s\n"
     ]
    }
   ],
   "source": [
    "%%time\n",
    "data_objs['Purchase Object'] = data_objs['Purchase Object'].apply(lemmatize_text)"
   ]
  },
  {
   "cell_type": "code",
   "execution_count": 123,
   "id": "0f5df0e8",
   "metadata": {},
   "outputs": [
    {
     "data": {
      "text/html": [
       "<div>\n",
       "<style scoped>\n",
       "    .dataframe tbody tr th:only-of-type {\n",
       "        vertical-align: middle;\n",
       "    }\n",
       "\n",
       "    .dataframe tbody tr th {\n",
       "        vertical-align: top;\n",
       "    }\n",
       "\n",
       "    .dataframe thead th {\n",
       "        text-align: right;\n",
       "    }\n",
       "</style>\n",
       "<table border=\"1\" class=\"dataframe\">\n",
       "  <thead>\n",
       "    <tr style=\"text-align: right;\">\n",
       "      <th></th>\n",
       "      <th>TIN</th>\n",
       "      <th>Purchase Object</th>\n",
       "    </tr>\n",
       "  </thead>\n",
       "  <tbody>\n",
       "    <tr>\n",
       "      <th>0</th>\n",
       "      <td>105018196</td>\n",
       "      <td>газовый услуга оборудование технический обслуж...</td>\n",
       "    </tr>\n",
       "    <tr>\n",
       "      <th>1</th>\n",
       "      <td>105020004</td>\n",
       "      <td>оказание услуга повышение квалификация среднее...</td>\n",
       "    </tr>\n",
       "    <tr>\n",
       "      <th>2</th>\n",
       "      <td>202008210</td>\n",
       "      <td></td>\n",
       "    </tr>\n",
       "    <tr>\n",
       "      <th>3</th>\n",
       "      <td>207006200</td>\n",
       "      <td></td>\n",
       "    </tr>\n",
       "    <tr>\n",
       "      <th>4</th>\n",
       "      <td>207007690</td>\n",
       "      <td></td>\n",
       "    </tr>\n",
       "    <tr>\n",
       "      <th>5</th>\n",
       "      <td>210003329</td>\n",
       "      <td></td>\n",
       "    </tr>\n",
       "    <tr>\n",
       "      <th>6</th>\n",
       "      <td>210003368</td>\n",
       "      <td></td>\n",
       "    </tr>\n",
       "    <tr>\n",
       "      <th>7</th>\n",
       "      <td>210003590</td>\n",
       "      <td>обучение район возраст гражданин дисциплина ос...</td>\n",
       "    </tr>\n",
       "  </tbody>\n",
       "</table>\n",
       "</div>"
      ],
      "text/plain": [
       "         TIN                                    Purchase Object\n",
       "0  105018196  газовый услуга оборудование технический обслуж...\n",
       "1  105020004  оказание услуга повышение квалификация среднее...\n",
       "2  202008210                                                   \n",
       "3  207006200                                                   \n",
       "4  207007690                                                   \n",
       "5  210003329                                                   \n",
       "6  210003368                                                   \n",
       "7  210003590  обучение район возраст гражданин дисциплина ос..."
      ]
     },
     "execution_count": 123,
     "metadata": {},
     "output_type": "execute_result"
    }
   ],
   "source": [
    "data_objs['Purchase Object'] = data_objs['Purchase Object'].apply(lambda x: ' '.join([word for word, freq in Counter(x).most_common(8)]))\n",
    "data_objs.head(8)"
   ]
  },
  {
   "cell_type": "code",
   "execution_count": 124,
   "id": "fc885c04",
   "metadata": {},
   "outputs": [],
   "source": [
    "data_objs.to_csv('data_for_nodes.csv', index=False)"
   ]
  },
  {
   "cell_type": "markdown",
   "id": "1f66775f",
   "metadata": {},
   "source": [
    "<a id=\"4\"></a>\n",
    "# <b><span style='color:blue'>|</span> 4. Анализ данных</b>\n",
    "* [К оглавлению](#0)"
   ]
  },
  {
   "cell_type": "markdown",
   "id": "9fd3954d",
   "metadata": {},
   "source": [
    "Таблица data_nodes имеет пропуски, которые заполняются пустой строкой."
   ]
  },
  {
   "cell_type": "code",
   "execution_count": 2,
   "id": "58cf619d",
   "metadata": {},
   "outputs": [
    {
     "data": {
      "text/html": [
       "<div>\n",
       "<style scoped>\n",
       "    .dataframe tbody tr th:only-of-type {\n",
       "        vertical-align: middle;\n",
       "    }\n",
       "\n",
       "    .dataframe tbody tr th {\n",
       "        vertical-align: top;\n",
       "    }\n",
       "\n",
       "    .dataframe thead th {\n",
       "        text-align: right;\n",
       "    }\n",
       "</style>\n",
       "<table border=\"1\" class=\"dataframe\">\n",
       "  <thead>\n",
       "    <tr style=\"text-align: right;\">\n",
       "      <th></th>\n",
       "      <th>ID</th>\n",
       "      <th>TIN of Participant</th>\n",
       "      <th>Initial Price</th>\n",
       "      <th>TIN of Customer</th>\n",
       "    </tr>\n",
       "  </thead>\n",
       "  <tbody>\n",
       "    <tr>\n",
       "      <th>0</th>\n",
       "      <td>32211557847</td>\n",
       "      <td>256006322</td>\n",
       "      <td>9483808.33</td>\n",
       "      <td>2709001590</td>\n",
       "    </tr>\n",
       "    <tr>\n",
       "      <th>1</th>\n",
       "      <td>32110296447</td>\n",
       "      <td>256006322</td>\n",
       "      <td>3240000.00</td>\n",
       "      <td>2709001590</td>\n",
       "    </tr>\n",
       "    <tr>\n",
       "      <th>2</th>\n",
       "      <td>32110068299</td>\n",
       "      <td>256006322</td>\n",
       "      <td>8785370.84</td>\n",
       "      <td>2709001590</td>\n",
       "    </tr>\n",
       "    <tr>\n",
       "      <th>3</th>\n",
       "      <td>32009647275</td>\n",
       "      <td>256006322</td>\n",
       "      <td>137760.00</td>\n",
       "      <td>2531002070</td>\n",
       "    </tr>\n",
       "    <tr>\n",
       "      <th>4</th>\n",
       "      <td>32009347076</td>\n",
       "      <td>256006322</td>\n",
       "      <td>4431008.33</td>\n",
       "      <td>2709001590</td>\n",
       "    </tr>\n",
       "  </tbody>\n",
       "</table>\n",
       "</div>"
      ],
      "text/plain": [
       "            ID  TIN of Participant  Initial Price  TIN of Customer\n",
       "0  32211557847           256006322     9483808.33       2709001590\n",
       "1  32110296447           256006322     3240000.00       2709001590\n",
       "2  32110068299           256006322     8785370.84       2709001590\n",
       "3  32009647275           256006322      137760.00       2531002070\n",
       "4  32009347076           256006322     4431008.33       2709001590"
      ]
     },
     "execution_count": 2,
     "metadata": {},
     "output_type": "execute_result"
    }
   ],
   "source": [
    "data_edges = pd.read_csv('data_for_edges.csv')\n",
    "data_edges.head()"
   ]
  },
  {
   "cell_type": "code",
   "execution_count": 3,
   "id": "3ef9bb08",
   "metadata": {},
   "outputs": [
    {
     "name": "stdout",
     "output_type": "stream",
     "text": [
      "<class 'pandas.core.frame.DataFrame'>\n",
      "RangeIndex: 13282 entries, 0 to 13281\n",
      "Data columns (total 4 columns):\n",
      " #   Column              Non-Null Count  Dtype  \n",
      "---  ------              --------------  -----  \n",
      " 0   ID                  13282 non-null  int64  \n",
      " 1   TIN of Participant  13282 non-null  int64  \n",
      " 2   Initial Price       13282 non-null  float64\n",
      " 3   TIN of Customer     13282 non-null  int64  \n",
      "dtypes: float64(1), int64(3)\n",
      "memory usage: 415.2 KB\n"
     ]
    }
   ],
   "source": [
    "data_edges.info()"
   ]
  },
  {
   "cell_type": "code",
   "execution_count": 4,
   "id": "ec73d134",
   "metadata": {},
   "outputs": [
    {
     "data": {
      "text/plain": [
       "(13282, 4)"
      ]
     },
     "execution_count": 4,
     "metadata": {},
     "output_type": "execute_result"
    }
   ],
   "source": [
    "data_edges.shape"
   ]
  },
  {
   "cell_type": "code",
   "execution_count": 5,
   "id": "1d32c1bf",
   "metadata": {},
   "outputs": [
    {
     "data": {
      "text/html": [
       "<div>\n",
       "<style scoped>\n",
       "    .dataframe tbody tr th:only-of-type {\n",
       "        vertical-align: middle;\n",
       "    }\n",
       "\n",
       "    .dataframe tbody tr th {\n",
       "        vertical-align: top;\n",
       "    }\n",
       "\n",
       "    .dataframe thead th {\n",
       "        text-align: right;\n",
       "    }\n",
       "</style>\n",
       "<table border=\"1\" class=\"dataframe\">\n",
       "  <thead>\n",
       "    <tr style=\"text-align: right;\">\n",
       "      <th></th>\n",
       "      <th>TIN</th>\n",
       "      <th>Purchase Object</th>\n",
       "    </tr>\n",
       "  </thead>\n",
       "  <tbody>\n",
       "    <tr>\n",
       "      <th>0</th>\n",
       "      <td>105018196</td>\n",
       "      <td>газовый услуга оборудование технический обслуж...</td>\n",
       "    </tr>\n",
       "    <tr>\n",
       "      <th>1</th>\n",
       "      <td>105020004</td>\n",
       "      <td>оказание услуга повышение квалификация среднее...</td>\n",
       "    </tr>\n",
       "    <tr>\n",
       "      <th>2</th>\n",
       "      <td>202008210</td>\n",
       "      <td>NaN</td>\n",
       "    </tr>\n",
       "    <tr>\n",
       "      <th>3</th>\n",
       "      <td>207006200</td>\n",
       "      <td>NaN</td>\n",
       "    </tr>\n",
       "    <tr>\n",
       "      <th>4</th>\n",
       "      <td>207007690</td>\n",
       "      <td>NaN</td>\n",
       "    </tr>\n",
       "    <tr>\n",
       "      <th>5</th>\n",
       "      <td>210003329</td>\n",
       "      <td>NaN</td>\n",
       "    </tr>\n",
       "    <tr>\n",
       "      <th>6</th>\n",
       "      <td>210003368</td>\n",
       "      <td>NaN</td>\n",
       "    </tr>\n",
       "    <tr>\n",
       "      <th>7</th>\n",
       "      <td>210003590</td>\n",
       "      <td>обучение район возраст гражданин дисциплина ос...</td>\n",
       "    </tr>\n",
       "  </tbody>\n",
       "</table>\n",
       "</div>"
      ],
      "text/plain": [
       "         TIN                                    Purchase Object\n",
       "0  105018196  газовый услуга оборудование технический обслуж...\n",
       "1  105020004  оказание услуга повышение квалификация среднее...\n",
       "2  202008210                                                NaN\n",
       "3  207006200                                                NaN\n",
       "4  207007690                                                NaN\n",
       "5  210003329                                                NaN\n",
       "6  210003368                                                NaN\n",
       "7  210003590  обучение район возраст гражданин дисциплина ос..."
      ]
     },
     "execution_count": 5,
     "metadata": {},
     "output_type": "execute_result"
    }
   ],
   "source": [
    "data_nodes = pd.read_csv('data_for_nodes.csv')\n",
    "data_nodes.head(8)"
   ]
  },
  {
   "cell_type": "code",
   "execution_count": 6,
   "id": "e89374c5",
   "metadata": {},
   "outputs": [
    {
     "name": "stdout",
     "output_type": "stream",
     "text": [
      "<class 'pandas.core.frame.DataFrame'>\n",
      "RangeIndex: 3906 entries, 0 to 3905\n",
      "Data columns (total 2 columns):\n",
      " #   Column           Non-Null Count  Dtype \n",
      "---  ------           --------------  ----- \n",
      " 0   TIN              3906 non-null   int64 \n",
      " 1   Purchase Object  2718 non-null   object\n",
      "dtypes: int64(1), object(1)\n",
      "memory usage: 61.2+ KB\n"
     ]
    }
   ],
   "source": [
    "data_nodes.info()"
   ]
  },
  {
   "cell_type": "code",
   "execution_count": 7,
   "id": "b0221dd0",
   "metadata": {},
   "outputs": [
    {
     "data": {
      "text/plain": [
       "(3906, 2)"
      ]
     },
     "execution_count": 7,
     "metadata": {},
     "output_type": "execute_result"
    }
   ],
   "source": [
    "data_nodes.shape"
   ]
  },
  {
   "cell_type": "code",
   "execution_count": 8,
   "id": "97febebf",
   "metadata": {},
   "outputs": [],
   "source": [
    "data_nodes = data_nodes.fillna('')"
   ]
  },
  {
   "cell_type": "markdown",
   "id": "8265b466",
   "metadata": {},
   "source": [
    "<a id=\"5\"></a>\n",
    "# <b><span style='color:blue'>|</span> 5. Векторизация</b>\n",
    "* [К оглавлению](#0)"
   ]
  },
  {
   "cell_type": "markdown",
   "id": "1c99f422",
   "metadata": {},
   "source": [
    "Полученные \"объекты\" векторизируются, так как в качестве свойств графа нельзя использовать данные формата str.\\\n",
    "`TF-IDF (Term Frequency — Inverse Dense Frequency)` -  это метод, который помогает определить важность слов в тексте на основе их частотности."
   ]
  },
  {
   "cell_type": "code",
   "execution_count": 9,
   "id": "befc976c",
   "metadata": {},
   "outputs": [
    {
     "data": {
      "text/plain": [
       "tensor([[0., 0., 0.,  ..., 0., 0., 0.],\n",
       "        [0., 0., 0.,  ..., 0., 0., 0.],\n",
       "        [0., 0., 0.,  ..., 0., 0., 0.],\n",
       "        ...,\n",
       "        [0., 0., 0.,  ..., 0., 0., 0.],\n",
       "        [0., 0., 0.,  ..., 0., 0., 0.],\n",
       "        [0., 0., 0.,  ..., 0., 0., 0.]], dtype=torch.float64)"
      ]
     },
     "execution_count": 9,
     "metadata": {},
     "output_type": "execute_result"
    }
   ],
   "source": [
    "vectorizer = TfidfVectorizer()\n",
    "X = vectorizer.fit_transform(data_nodes['Purchase Object'].tolist())\n",
    "nodes_features = torch.tensor(X.toarray())\n",
    "nodes_features"
   ]
  },
  {
   "cell_type": "markdown",
   "id": "d757c547",
   "metadata": {},
   "source": [
    "<a id=\"6\"></a>\n",
    "# <b><span style='color:blue'>|</span> 6. Построение графа</b>\n",
    "* [К оглавлению](#0)"
   ]
  },
  {
   "cell_type": "markdown",
   "id": "b67d00d5",
   "metadata": {},
   "source": [
    "ИНН контрагентов сортируются и нумеруются от 0 до 3906, чтобы построить граф. Задаются свойства вершин - объекты закупки, свойства рёбер - начальная цена."
   ]
  },
  {
   "cell_type": "code",
   "execution_count": 10,
   "id": "1051769b",
   "metadata": {},
   "outputs": [],
   "source": [
    "def encode_columns(col1, col2):\n",
    "    sorted_values = sorted(np.unique(data_edges[['TIN of Participant', 'TIN of Customer']].to_numpy()).tolist())\n",
    "    mapping = {val: i for i, val in enumerate(sorted_values)}\n",
    "    return pd.DataFrame({'TIN of Participant encoded': [mapping[val] for val in col1],\n",
    "                         'TIN of Customer encoded': [mapping[val] for val in col2]})"
   ]
  },
  {
   "cell_type": "code",
   "execution_count": 11,
   "id": "59bd2011",
   "metadata": {},
   "outputs": [
    {
     "data": {
      "text/html": [
       "<div>\n",
       "<style scoped>\n",
       "    .dataframe tbody tr th:only-of-type {\n",
       "        vertical-align: middle;\n",
       "    }\n",
       "\n",
       "    .dataframe tbody tr th {\n",
       "        vertical-align: top;\n",
       "    }\n",
       "\n",
       "    .dataframe thead th {\n",
       "        text-align: right;\n",
       "    }\n",
       "</style>\n",
       "<table border=\"1\" class=\"dataframe\">\n",
       "  <thead>\n",
       "    <tr style=\"text-align: right;\">\n",
       "      <th></th>\n",
       "      <th>TIN of Participant encoded</th>\n",
       "      <th>TIN of Customer encoded</th>\n",
       "    </tr>\n",
       "  </thead>\n",
       "  <tbody>\n",
       "    <tr>\n",
       "      <th>0</th>\n",
       "      <td>39</td>\n",
       "      <td>878</td>\n",
       "    </tr>\n",
       "    <tr>\n",
       "      <th>1</th>\n",
       "      <td>39</td>\n",
       "      <td>878</td>\n",
       "    </tr>\n",
       "    <tr>\n",
       "      <th>2</th>\n",
       "      <td>39</td>\n",
       "      <td>878</td>\n",
       "    </tr>\n",
       "    <tr>\n",
       "      <th>3</th>\n",
       "      <td>39</td>\n",
       "      <td>762</td>\n",
       "    </tr>\n",
       "    <tr>\n",
       "      <th>4</th>\n",
       "      <td>39</td>\n",
       "      <td>878</td>\n",
       "    </tr>\n",
       "  </tbody>\n",
       "</table>\n",
       "</div>"
      ],
      "text/plain": [
       "   TIN of Participant encoded  TIN of Customer encoded\n",
       "0                          39                      878\n",
       "1                          39                      878\n",
       "2                          39                      878\n",
       "3                          39                      762\n",
       "4                          39                      878"
      ]
     },
     "execution_count": 11,
     "metadata": {},
     "output_type": "execute_result"
    }
   ],
   "source": [
    "nodes = encode_columns(data_edges['TIN of Participant'], data_edges['TIN of Customer'])\n",
    "nodes.head()"
   ]
  },
  {
   "cell_type": "code",
   "execution_count": 12,
   "id": "1512ec3d",
   "metadata": {},
   "outputs": [],
   "source": [
    "g = dgl.graph((nodes['TIN of Participant encoded'], nodes['TIN of Customer encoded']))"
   ]
  },
  {
   "cell_type": "code",
   "execution_count": 13,
   "id": "c087fe49",
   "metadata": {},
   "outputs": [
    {
     "data": {
      "text/plain": [
       "torch.Size([13282])"
      ]
     },
     "execution_count": 13,
     "metadata": {},
     "output_type": "execute_result"
    }
   ],
   "source": [
    "g.edges()[0].shape"
   ]
  },
  {
   "cell_type": "code",
   "execution_count": 14,
   "id": "33436d62",
   "metadata": {},
   "outputs": [],
   "source": [
    "g.ndata['objects'] = nodes_features"
   ]
  },
  {
   "cell_type": "code",
   "execution_count": 15,
   "id": "4cf1d912",
   "metadata": {},
   "outputs": [],
   "source": [
    "g.edata['price'] = torch.tensor(data_edges['Initial Price'])"
   ]
  },
  {
   "cell_type": "code",
   "execution_count": 16,
   "id": "9ef9ef15",
   "metadata": {},
   "outputs": [
    {
     "data": {
      "text/plain": [
       "Graph(num_nodes=3906, num_edges=13282,\n",
       "      ndata_schemes={'objects': Scheme(shape=(3390,), dtype=torch.float64)}\n",
       "      edata_schemes={'price': Scheme(shape=(), dtype=torch.float64)})"
      ]
     },
     "execution_count": 16,
     "metadata": {},
     "output_type": "execute_result"
    }
   ],
   "source": [
    "g"
   ]
  },
  {
   "cell_type": "markdown",
   "id": "74385963",
   "metadata": {},
   "source": [
    "<a id=\"7\"></a>\n",
    "# <b><span style='color:blue'>|</span> 7. Разделение на обучающую и тестовую выборки</b>\n",
    "* [К оглавлению](#0)"
   ]
  },
  {
   "cell_type": "markdown",
   "id": "c0e73c71",
   "metadata": {},
   "source": [
    "Граф g раздеялется на тренировочный и тестовый наборы граней.\n",
    "Сначала определяются все ребра графа g путем получения их исходных и конечных узлов u и v, а затем происходит перетасовка случайного порядка всех ребер. Далее вычисляется количество граней, которые будут использоваться в качестве тестового набора, которое равно 10% от общего количества ребер. Затем создаются тестовый и обучающий наборы граней.\n",
    "В итоге, тренировочный граф, и соответствующие ему положительные графы готовы для обучения модели, а тестовые графы для оценки качества работы модели."
   ]
  },
  {
   "cell_type": "code",
   "execution_count": 17,
   "id": "b33d197f",
   "metadata": {},
   "outputs": [],
   "source": [
    "u, v = g.edges()\n",
    "\n",
    "eids = np.arange(g.num_edges())\n",
    "eids = np.random.permutation(eids)\n",
    "test_size = int(len(eids) * 0.1)\n",
    "train_size = g.num_edges() - test_size\n",
    "test_pos_u, test_pos_v = u[eids[:test_size]], v[eids[:test_size]]\n",
    "train_pos_u, train_pos_v = u[eids[test_size:]], v[eids[test_size:]]\n",
    "\n",
    "adj = sp.coo_matrix((np.ones(len(u)), (u.numpy(), v.numpy())), shape=(3906, 3906))\n",
    "adj_neg = 1 - adj.todense() - np.eye(g.num_nodes())\n",
    "neg_u, neg_v = np.where(adj_neg != 0)\n",
    "\n",
    "neg_eids = np.random.choice(len(neg_u), g.num_edges())\n",
    "test_neg_u, test_neg_v = (\n",
    "    neg_u[neg_eids[:test_size]],\n",
    "    neg_v[neg_eids[:test_size]],\n",
    ")\n",
    "train_neg_u, train_neg_v = (\n",
    "    neg_u[neg_eids[test_size:]],\n",
    "    neg_v[neg_eids[test_size:]],\n",
    ")"
   ]
  },
  {
   "cell_type": "code",
   "execution_count": 18,
   "id": "540127c0",
   "metadata": {},
   "outputs": [
    {
     "data": {
      "text/plain": [
       "array([   0,    0,    0, ..., 3905, 3905, 3905], dtype=int64)"
      ]
     },
     "execution_count": 18,
     "metadata": {},
     "output_type": "execute_result"
    }
   ],
   "source": [
    "neg_u"
   ]
  },
  {
   "cell_type": "code",
   "execution_count": 19,
   "id": "64dfae33",
   "metadata": {},
   "outputs": [],
   "source": [
    "train_g = dgl.remove_edges(g, eids[:test_size])"
   ]
  },
  {
   "cell_type": "code",
   "execution_count": 20,
   "id": "089aed2e",
   "metadata": {},
   "outputs": [
    {
     "data": {
      "text/plain": [
       "Graph(num_nodes=3906, num_edges=11954,\n",
       "      ndata_schemes={'objects': Scheme(shape=(3390,), dtype=torch.float64)}\n",
       "      edata_schemes={'price': Scheme(shape=(), dtype=torch.float64)})"
      ]
     },
     "execution_count": 20,
     "metadata": {},
     "output_type": "execute_result"
    }
   ],
   "source": [
    "train_g"
   ]
  },
  {
   "cell_type": "code",
   "execution_count": 21,
   "id": "406dc693",
   "metadata": {},
   "outputs": [],
   "source": [
    "train_pos_g = dgl.graph((train_pos_u, train_pos_v), num_nodes=g.num_nodes())\n",
    "train_neg_g = dgl.graph((train_neg_u, train_neg_v), num_nodes=g.num_nodes())\n",
    "\n",
    "test_pos_g = dgl.graph((test_pos_u, test_pos_v), num_nodes=g.num_nodes())\n",
    "test_neg_g = dgl.graph((test_neg_u, test_neg_v), num_nodes=g.num_nodes())"
   ]
  },
  {
   "cell_type": "code",
   "execution_count": 22,
   "id": "a464e2cd",
   "metadata": {},
   "outputs": [
    {
     "data": {
      "text/plain": [
       "Graph(num_nodes=3906, num_edges=11954,\n",
       "      ndata_schemes={}\n",
       "      edata_schemes={})"
      ]
     },
     "execution_count": 22,
     "metadata": {},
     "output_type": "execute_result"
    }
   ],
   "source": [
    "train_pos_g"
   ]
  },
  {
   "cell_type": "code",
   "execution_count": 23,
   "id": "b23e126b",
   "metadata": {},
   "outputs": [
    {
     "data": {
      "text/plain": [
       "Graph(num_nodes=3906, num_edges=11954,\n",
       "      ndata_schemes={}\n",
       "      edata_schemes={})"
      ]
     },
     "execution_count": 23,
     "metadata": {},
     "output_type": "execute_result"
    }
   ],
   "source": [
    "train_neg_g"
   ]
  },
  {
   "cell_type": "markdown",
   "id": "58fb626b",
   "metadata": {},
   "source": [
    "<a id=\"8\"></a>\n",
    "# <b><span style='color:blue'>|</span> 8. Обучение</b>\n",
    "* [К оглавлению](#0)"
   ]
  },
  {
   "cell_type": "markdown",
   "id": "ab404316",
   "metadata": {},
   "source": [
    "Определены функции потерь и метрик. Функция потерь вычисляет бинарную перекрестную энтропию между прогнозируемыми оценками и истинными метками по формуле:\\\n",
    "$loss = -(y \\cdot \\ln(sigmoid(x)) + (1 - y) \\cdot \\ln(1 - sigmoid(x)))$\\\n",
    "\n",
    "Функции метрик, написанные с использованием библиотеки sklearn:\n",
    "+ `accuracy` (точность) измеряет долю правильных ответов, т. е. отношение числа правильно классифицированных объектов к общему числу объектов в выборке:\n",
    "\n",
    "+ `Метрика f1` (среднее гармоническое между precision и recall) учитывает несбалансированность классов и представляет собой среднее гармоническое между precision и recall по всем классам, где precision - точность, recall - полнота: $F1 = 2\\frac{precision \\cdot recall}{precision + recall}$\n",
    "\n",
    "+ `Метрика AUC-ROC` является мерой качества модели, учитывающей баланс между true positive rate (доля истинно положительных ответов) и false positive rate (доля ложно положительных ответов). AUC-ROC - площадь под кривой ROC, где ROC-кривая - это кривая, которая показывает зависимость TPR от FPR при изменении порога классификации.\n",
    "\n",
    "Также определена функция инструмента `Confusion matrix` (матрица ошибок). Она представляет собой квадратную матрицу, где каждая строка представляет фактические классы, а каждый столбец представляет прогнозируемые классы, и содержит четыре основных элемента:\n",
    "- True Positive (TP): Количество объектов, которые модель правильно классифицировала как положительные.\n",
    "- True Negative (TN): Количество объектов, которые модель правильно классифицировала как отрицательные.\n",
    "- False Positive (FP): Количество объектов, которые модель неправильно классифицировала как положительные (ложные срабатывания).\n",
    "- False Negative (FN): Количество объектов, которые модель неправильно классифицировала как отрицательные (ложные пропуски)."
   ]
  },
  {
   "cell_type": "code",
   "execution_count": 328,
   "id": "e359e242",
   "metadata": {},
   "outputs": [],
   "source": [
    "def compute_loss(pos_score, neg_score):\n",
    "    scores = torch.cat([pos_score, neg_score])\n",
    "    labels = torch.cat(\n",
    "        [torch.ones(pos_score.shape[0]), torch.zeros(neg_score.shape[0])]\n",
    "    )\n",
    "    return F.binary_cross_entropy_with_logits(scores, labels)\n",
    "def compute_auc(pos_score, neg_score):\n",
    "    scores = torch.cat([pos_score, neg_score]).numpy()\n",
    "    labels = torch.cat(\n",
    "        [torch.ones(pos_score.shape[0]), torch.zeros(neg_score.shape[0])]\n",
    "    ).numpy()\n",
    "    return roc_auc_score(labels, scores)\n",
    "def compute_f1(pos_prob, neg_prob):\n",
    "    scores = torch.cat([pos_score, neg_score]).detach().numpy()\n",
    "    labels = torch.cat(\n",
    "        [torch.ones(pos_score.shape[0]), torch.zeros(neg_score.shape[0])]\n",
    "    ).detach().numpy()\n",
    "    pred_labels = np.where(scores > 0.5, 1, 0)\n",
    "    return f1_score(labels, pred_labels)\n",
    "def compute_accuracy(pos_prob, neg_prob):\n",
    "    scores = torch.cat([pos_score, neg_score]).detach().numpy()\n",
    "    labels = torch.cat(\n",
    "        [torch.ones(pos_score.shape[0]), torch.zeros(neg_score.shape[0])]\n",
    "    ).detach().numpy()\n",
    "    pred_labels = np.where(scores > 0.5, 1, 0)\n",
    "    return accuracy_score(labels, pred_labels)\n",
    "def compute_conf_matrix(pos_score, neg_score):\n",
    "    scores = torch.cat([pos_score, neg_score]).numpy()\n",
    "    labels = torch.cat(\n",
    "        [torch.ones(pos_score.shape[0]), torch.zeros(neg_score.shape[0])]\n",
    "    ).numpy()\n",
    "    pred_labels = np.where(scores > 0.5, 1, 0)\n",
    "    return confusion_matrix(labels, pred_labels)"
   ]
  },
  {
   "cell_type": "markdown",
   "id": "b9354f1e",
   "metadata": {},
   "source": [
    "Также создадим таблицу, где будем хранить результаты моделей, чтобы впоследствии сравнить и выбрать лучшую модель."
   ]
  },
  {
   "cell_type": "code",
   "execution_count": 404,
   "id": "409b35e0",
   "metadata": {},
   "outputs": [],
   "source": [
    "results = pd.DataFrame(columns=['Name', 'Accuracy', 'F1', 'AUC', 'time (s)'])"
   ]
  },
  {
   "cell_type": "markdown",
   "id": "321d28cc",
   "metadata": {},
   "source": [
    "<a id=\"8.1\"></a>\n",
    "## <b><span style='color:blue'>|</span> 8.1. Модель GraphSAGE</b>"
   ]
  },
  {
   "cell_type": "markdown",
   "id": "25003c54",
   "metadata": {},
   "source": [
    "Модель `GraphSAGE (Graph Sample and Aggregated)` - это алгоритм, предназначенный для предсказания свойств узлов в графовых данных. Он использует метод агрегации информации из соседних узлов для обновления признаков текущего узла. Основная идея заключается в том, чтобы взять сэмплы из окружающих узлов, объединить их признаки и передать их через несколько слоев нейронной сети для генерации новых признаков текущего узла. Таким образом, каждый узел получает информацию от своих соседей и агрегирует ее для обновления своих признаков."
   ]
  },
  {
   "cell_type": "code",
   "execution_count": 420,
   "id": "e205f3cf",
   "metadata": {},
   "outputs": [],
   "source": [
    "class GraphSAGE(nn.Module):\n",
    "    def __init__(self, in_feats, h_feats):\n",
    "        super(GraphSAGE, self).__init__()\n",
    "        self.conv1 = SAGEConv(in_feats, h_feats, \"mean\")\n",
    "        self.conv2 = SAGEConv(h_feats, h_feats, \"mean\")\n",
    "\n",
    "    def forward(self, g, in_feat):\n",
    "        h = self.conv1(g, in_feat)\n",
    "        h = F.relu(h)\n",
    "        h = self.conv2(g, h)\n",
    "        return h"
   ]
  },
  {
   "cell_type": "markdown",
   "id": "1fa38153",
   "metadata": {},
   "source": [
    "<a id=\"8.1.1\"></a>\n",
    "### <b><span style='color:blue'>|</span> 8.1.1. Функция DotPredictor</b>"
   ]
  },
  {
   "cell_type": "markdown",
   "id": "f06d9d22",
   "metadata": {},
   "source": [
    "Функция `DotPredictor` вычисляет новые характеристики рёбер на основе исходных характеристик рёбер и узлов. В частности, вычисляется точечное произведение характеристик инцидентных узлов для каждого ребра"
   ]
  },
  {
   "cell_type": "markdown",
   "id": "7d55748f",
   "metadata": {},
   "source": [
    "В цикле обучения для каждой эпохи производится прямой проход через модель, вычисляются потери и производится обратное распространение ошибки, после чего обновляются веса модели. Для оценки качества работы модели используются разные метрики (`F1 score, Accuracy, ROC-AUC score, Confusion matrix`)."
   ]
  },
  {
   "cell_type": "code",
   "execution_count": 421,
   "id": "088a8542",
   "metadata": {},
   "outputs": [],
   "source": [
    "class DotPredictor(nn.Module):\n",
    "    def forward(self, g, h):\n",
    "        with g.local_scope():\n",
    "            g.ndata[\"h\"] = h\n",
    "            g.apply_edges(fn.u_dot_v(\"h\", \"h\", \"score\"))\n",
    "            return g.edata[\"score\"][:, 0]"
   ]
  },
  {
   "cell_type": "code",
   "execution_count": 422,
   "id": "ea0fba29",
   "metadata": {},
   "outputs": [],
   "source": [
    "model = GraphSAGE(train_g.ndata[\"objects\"].shape[1], 8)\n",
    "model = model.double()\n",
    "pred = DotPredictor()"
   ]
  },
  {
   "cell_type": "code",
   "execution_count": 423,
   "id": "96831447",
   "metadata": {},
   "outputs": [],
   "source": [
    "optimizer = torch.optim.Adam(\n",
    "    itertools.chain(model.parameters(), pred.parameters()), lr=0.01\n",
    ")"
   ]
  },
  {
   "cell_type": "code",
   "execution_count": 424,
   "id": "d4eec20f",
   "metadata": {
    "scrolled": false
   },
   "outputs": [
    {
     "name": "stdout",
     "output_type": "stream",
     "text": [
      "In epoch 0, loss: 0.7039\n",
      "In epoch 5, loss: 0.64762\n",
      "In epoch 10, loss: 0.56834\n",
      "In epoch 15, loss: 0.51513\n",
      "In epoch 20, loss: 0.47238\n",
      "In epoch 25, loss: 0.43334\n",
      "In epoch 30, loss: 0.40005\n",
      "In epoch 35, loss: 0.37161\n",
      "In epoch 40, loss: 0.34584\n",
      "In epoch 45, loss: 0.32233\n",
      "In epoch 50, loss: 0.30072\n",
      "In epoch 55, loss: 0.28085\n",
      "In epoch 60, loss: 0.26238\n",
      "In epoch 65, loss: 0.24517\n",
      "In epoch 70, loss: 0.22908\n",
      "In epoch 75, loss: 0.21401\n",
      "In epoch 80, loss: 0.1998\n",
      "In epoch 85, loss: 0.18656\n",
      "In epoch 90, loss: 0.17424\n",
      "In epoch 95, loss: 0.16274\n",
      "In epoch 100, loss: 0.15193\n",
      "In epoch 105, loss: 0.14174\n",
      "In epoch 110, loss: 0.13206\n",
      "In epoch 115, loss: 0.12302\n",
      "In epoch 120, loss: 0.11499\n",
      "In epoch 125, loss: 0.10748\n",
      "In epoch 130, loss: 0.10039\n",
      "In epoch 135, loss: 0.09424\n",
      "In epoch 140, loss: 0.08847\n",
      "In epoch 145, loss: 0.08315\n",
      "Wall time: 13.7 s\n"
     ]
    }
   ],
   "source": [
    "%%time\n",
    "loss_values = []\n",
    "f1_values = []\n",
    "for e in range(150):\n",
    "\n",
    "    h = model(train_g, train_g.ndata[\"objects\"])\n",
    "    pos_score = pred(train_pos_g, h)\n",
    "    neg_score = pred(train_neg_g, h)\n",
    "    loss = compute_loss(pos_score, neg_score)\n",
    "    \n",
    "    optimizer.zero_grad()\n",
    "    loss.backward()\n",
    "    optimizer.step()\n",
    "    f1_sc = compute_f1(torch.sigmoid(pos_score), torch.sigmoid(neg_score))\n",
    "    if e % 5 == 0:\n",
    "        print(\"In epoch {}, loss: {}\".format(e, round(loss.item(), 5)))\n",
    "    loss_values.append(loss.item())\n",
    "    f1_values.append(f1_sc)"
   ]
  },
  {
   "cell_type": "code",
   "execution_count": 425,
   "id": "d0e5ae9b",
   "metadata": {
    "scrolled": false
   },
   "outputs": [
    {
     "data": {
      "image/png": "[encoded data removed]",
      "text/plain": [
       "<Figure size 1200x500 with 2 Axes>"
      ]
     },
     "metadata": {},
     "output_type": "display_data"
    }
   ],
   "source": [
    "fig, axs = plt.subplots(1, 2, figsize=(12, 5))\n",
    "\n",
    "axs[0].plot(loss_values, 'blue')\n",
    "axs[0].set_xlabel('Epoch')\n",
    "axs[0].set_ylabel('Loss', color='blue')\n",
    "\n",
    "axs[1].plot(f1_values, 'red')\n",
    "axs[1].set_ylabel('F1-score', color='red')\n",
    "\n",
    "plt.show()"
   ]
  },
  {
   "cell_type": "code",
   "execution_count": 426,
   "id": "9de02793",
   "metadata": {},
   "outputs": [
    {
     "name": "stdout",
     "output_type": "stream",
     "text": [
      "Accuracy: 0.70369\n",
      "AUC: 0.77652\n",
      "F1-score: 0.74154\n"
     ]
    }
   ],
   "source": [
    "with torch.no_grad():\n",
    "    pos_score = pred(test_pos_g, h)\n",
    "    neg_score = pred(test_neg_g, h)\n",
    "    pos_prob = torch.sigmoid(pos_score)\n",
    "    neg_prob = torch.sigmoid(neg_score)\n",
    "Acc_ = round(compute_accuracy(pos_score, neg_score), 5)\n",
    "AUC_ = round(compute_auc(pos_score, neg_score), 5)\n",
    "F1_ = round(compute_f1(pos_prob, neg_prob), 5)\n",
    "print (f\"Accuracy: {Acc_}\")\n",
    "print (f\"AUC: {AUC_}\")\n",
    "print (f\"F1-score: {F1_}\")\n",
    "results = results.append(pd.Series(['GraphSAGE; DotPredictor', Acc_, F1_, AUC_, '13.7'], index=results.columns), ignore_index=True)"
   ]
  },
  {
   "cell_type": "code",
   "execution_count": 427,
   "id": "f46c0cce",
   "metadata": {},
   "outputs": [
    {
     "name": "stdout",
     "output_type": "stream",
     "text": [
      "Confusion matrix: \n",
      "[[ 689  639]\n",
      " [ 187 1141]]\n"
     ]
    }
   ],
   "source": [
    "print (f\"Confusion matrix: \\n{compute_conf_matrix(pos_prob, neg_prob)}\")"
   ]
  },
  {
   "cell_type": "code",
   "execution_count": 428,
   "id": "4d897e54",
   "metadata": {
    "scrolled": false
   },
   "outputs": [
    {
     "data": {
      "image/png": "[encoded data removed]",
      "text/plain": [
       "<Figure size 640x480 with 2 Axes>"
      ]
     },
     "metadata": {},
     "output_type": "display_data"
    }
   ],
   "source": [
    "sns.heatmap(compute_conf_matrix(pos_prob, neg_prob), annot=True)\n",
    "plt.show()"
   ]
  },
  {
   "cell_type": "markdown",
   "id": "2bc3a7fb",
   "metadata": {},
   "source": [
    "<a id=\"8.1.2\"></a>\n",
    "### <b><span style='color:blue'>|</span> 8.1.2. Функция MLPPredictor</b>"
   ]
  },
  {
   "cell_type": "markdown",
   "id": "dc3a830a",
   "metadata": {},
   "source": [
    "Функция `MLPPredictor` вычисляет новые характеристики рёбер на основе исходных характеристик рёбер и узлов. В частности, она берет признаки исходных и целевых узлов ребер, объединяет их вместе, пропускает через линейный слой и функцию активации ReLU, а затем применяет второй линейный слой для получения оценок. Результатом является словарь с ключом \"score\" и соответствующими оценками для каждого ребра."
   ]
  },
  {
   "cell_type": "code",
   "execution_count": 429,
   "id": "0e044adf",
   "metadata": {},
   "outputs": [],
   "source": [
    "class MLPPredictor(nn.Module):\n",
    "    def __init__(self, h_feats):\n",
    "        super().__init__()\n",
    "        self.W1 = nn.Linear(h_feats * 2, h_feats)\n",
    "        self.W2 = nn.Linear(h_feats, 1)\n",
    "\n",
    "    def apply_edges(self, edges):\n",
    "        h = (torch.cat([edges.src['h'], edges.dst['h']], 1)).to(torch.float32)\n",
    "        return {'score': self.W2(F.relu(self.W1(h))).squeeze(1)}\n",
    "\n",
    "    def forward(self, g, h):\n",
    "        with g.local_scope():\n",
    "            g.ndata['h'] = h\n",
    "            g.apply_edges(self.apply_edges)\n",
    "            return g.edata['score']"
   ]
  },
  {
   "cell_type": "code",
   "execution_count": 430,
   "id": "cf6e7f71",
   "metadata": {},
   "outputs": [],
   "source": [
    "model = GraphSAGE(train_g.ndata[\"objects\"].shape[1], 8)\n",
    "model = model.double()\n",
    "pred = MLPPredictor(8)"
   ]
  },
  {
   "cell_type": "code",
   "execution_count": 431,
   "id": "75af10f9",
   "metadata": {},
   "outputs": [],
   "source": [
    "optimizer = torch.optim.Adam(\n",
    "    itertools.chain(model.parameters(), pred.parameters()), lr=0.01\n",
    ")"
   ]
  },
  {
   "cell_type": "code",
   "execution_count": 432,
   "id": "de804bcc",
   "metadata": {},
   "outputs": [
    {
     "name": "stdout",
     "output_type": "stream",
     "text": [
      "In epoch 0, loss: 0.69383\n",
      "In epoch 5, loss: 0.67161\n",
      "In epoch 10, loss: 0.59025\n",
      "In epoch 15, loss: 0.41334\n",
      "In epoch 20, loss: 0.2432\n",
      "In epoch 25, loss: 0.18683\n",
      "In epoch 30, loss: 0.14853\n",
      "In epoch 35, loss: 0.12891\n",
      "In epoch 40, loss: 0.11112\n",
      "In epoch 45, loss: 0.09911\n",
      "In epoch 50, loss: 0.08948\n",
      "In epoch 55, loss: 0.0814\n",
      "Wall time: 6.09 s\n"
     ]
    }
   ],
   "source": [
    "%%time\n",
    "loss_values = []\n",
    "f1_values = []\n",
    "for e in range(60):\n",
    "\n",
    "    h = model(train_g, train_g.ndata[\"objects\"])\n",
    "    pos_score = pred(train_pos_g, h)\n",
    "    neg_score = pred(train_neg_g, h)\n",
    "    loss = compute_loss(pos_score, neg_score)\n",
    "    \n",
    "    optimizer.zero_grad()\n",
    "    loss.backward()\n",
    "    optimizer.step()\n",
    "    f1_sc = compute_f1(torch.sigmoid(pos_score), torch.sigmoid(neg_score))\n",
    "    if e % 5 == 0:\n",
    "        print(\"In epoch {}, loss: {}\".format(e, round(loss.item(), 5)))\n",
    "    loss_values.append(loss.item())\n",
    "    f1_values.append(f1_sc)"
   ]
  },
  {
   "cell_type": "code",
   "execution_count": 433,
   "id": "21cee25b",
   "metadata": {},
   "outputs": [
    {
     "data": {
      "image/png": "[encoded data removed]",
      "text/plain": [
       "<Figure size 1200x500 with 2 Axes>"
      ]
     },
     "metadata": {},
     "output_type": "display_data"
    }
   ],
   "source": [
    "fig, axs = plt.subplots(1, 2, figsize=(12, 5))\n",
    "\n",
    "axs[0].plot(loss_values, 'blue')\n",
    "axs[0].set_xlabel('Epoch')\n",
    "axs[0].set_ylabel('Loss', color='blue')\n",
    "\n",
    "axs[1].plot(f1_values, 'red')\n",
    "axs[1].set_ylabel('F1-score', color='red')\n",
    "\n",
    "plt.show()"
   ]
  },
  {
   "cell_type": "code",
   "execution_count": 434,
   "id": "fa346aea",
   "metadata": {},
   "outputs": [
    {
     "name": "stdout",
     "output_type": "stream",
     "text": [
      "Accuracy: 0.93599\n",
      "AUC: 0.97294\n",
      "F1-score: 0.93556\n"
     ]
    }
   ],
   "source": [
    "with torch.no_grad():\n",
    "    pos_score = pred(test_pos_g, h)\n",
    "    neg_score = pred(test_neg_g, h)\n",
    "    pos_prob = torch.sigmoid(pos_score)\n",
    "    neg_prob = torch.sigmoid(neg_score)\n",
    "Acc_ = round(compute_accuracy(pos_score, neg_score), 5)\n",
    "AUC_ = round(compute_auc(pos_score, neg_score), 5)\n",
    "F1_ = round(compute_f1(pos_prob, neg_prob), 5)\n",
    "print (f\"Accuracy: {Acc_}\")\n",
    "print (f\"AUC: {AUC_}\")\n",
    "print (f\"F1-score: {F1_}\")\n",
    "results = results.append(pd.Series(['GraphSAGE; MLPPredictor', Acc_, F1_, AUC_, '6.09'], index=results.columns), ignore_index=True)"
   ]
  },
  {
   "cell_type": "code",
   "execution_count": 435,
   "id": "0f244024",
   "metadata": {},
   "outputs": [
    {
     "name": "stdout",
     "output_type": "stream",
     "text": [
      "Confusion matrix: \n",
      "[[1245   83]\n",
      " [  62 1266]]\n"
     ]
    }
   ],
   "source": [
    "print (f\"Confusion matrix: \\n{compute_conf_matrix(pos_prob, neg_prob)}\")"
   ]
  },
  {
   "cell_type": "code",
   "execution_count": 436,
   "id": "e6a9e13f",
   "metadata": {},
   "outputs": [
    {
     "data": {
      "image/png": "[encoded data removed]",
      "text/plain": [
       "<Figure size 640x480 with 2 Axes>"
      ]
     },
     "metadata": {},
     "output_type": "display_data"
    }
   ],
   "source": [
    "sns.heatmap(compute_conf_matrix(pos_prob, neg_prob), annot=True)\n",
    "plt.show()"
   ]
  },
  {
   "cell_type": "markdown",
   "id": "17aeb6ca",
   "metadata": {},
   "source": [
    "<a id=\"8.2\"></a>\n",
    "## <b><span style='color:blue'>|</span> 8.2. Модель GCN</b>"
   ]
  },
  {
   "cell_type": "markdown",
   "id": "89d01310",
   "metadata": {},
   "source": [
    "Модель `GCN (Graph Convolutional Network)` - это алгоритм, обрабатывающий узлы и ребра графа, а также учитывая структуру соседей каждого узла при выполнении вычислений. GCN выполняет операцию свертки на признаках графа. В каждом слое она учитывает признаки соседних узлов и агрегирует их информацию для обновления признаков текущего узла."
   ]
  },
  {
   "cell_type": "code",
   "execution_count": 437,
   "id": "8d44a72b",
   "metadata": {},
   "outputs": [],
   "source": [
    "class GCN(nn.Module):\n",
    "    def __init__(self, in_feats, out_feats):\n",
    "        super(GCN, self).__init__()\n",
    "        self.layer1 = GraphConv(in_feats, out_feats, allow_zero_in_degree=True)\n",
    "        self.layer2 = GraphConv(out_feats, out_feats, allow_zero_in_degree=True)\n",
    "\n",
    "    def forward(self, g, features):\n",
    "        h = self.layer1(g, features)\n",
    "        h = F.relu(h)\n",
    "        h = self.layer2(g, h)\n",
    "        return h"
   ]
  },
  {
   "cell_type": "markdown",
   "id": "b520d134",
   "metadata": {},
   "source": [
    "<a id=\"8.2.1\"></a>\n",
    "### <b><span style='color:blue'>|</span> 8.2.1. Функция DotPredictor</b>"
   ]
  },
  {
   "cell_type": "code",
   "execution_count": 438,
   "id": "d775b626",
   "metadata": {},
   "outputs": [],
   "source": [
    "model = GCN(train_g.ndata[\"objects\"].shape[1], 32)\n",
    "model = model.double()\n",
    "pred = DotPredictor()"
   ]
  },
  {
   "cell_type": "code",
   "execution_count": 439,
   "id": "a8ff0fd4",
   "metadata": {},
   "outputs": [],
   "source": [
    "optimizer = torch.optim.Adam(\n",
    "    itertools.chain(model.parameters(), pred.parameters()), lr=0.02\n",
    ")"
   ]
  },
  {
   "cell_type": "code",
   "execution_count": 440,
   "id": "26c1df9b",
   "metadata": {},
   "outputs": [
    {
     "name": "stdout",
     "output_type": "stream",
     "text": [
      "In epoch 0, loss: 0.69315\n",
      "In epoch 10, loss: 0.67622\n",
      "In epoch 20, loss: 0.66509\n",
      "In epoch 30, loss: 0.65919\n",
      "In epoch 40, loss: 0.65577\n",
      "In epoch 50, loss: 0.65052\n",
      "In epoch 60, loss: 0.64334\n",
      "In epoch 70, loss: 0.63798\n",
      "In epoch 80, loss: 0.63465\n",
      "In epoch 90, loss: 0.63257\n",
      "In epoch 100, loss: 0.63103\n",
      "In epoch 110, loss: 0.63006\n",
      "In epoch 120, loss: 0.62943\n",
      "In epoch 130, loss: 0.62903\n",
      "In epoch 140, loss: 0.62867\n",
      "In epoch 150, loss: 0.62839\n",
      "In epoch 160, loss: 0.6281\n",
      "In epoch 170, loss: 0.62753\n",
      "In epoch 180, loss: 0.62908\n",
      "In epoch 190, loss: 0.62472\n",
      "Wall time: 28.6 s\n"
     ]
    }
   ],
   "source": [
    "%%time\n",
    "loss_values = []\n",
    "f1_values = []\n",
    "for e in range(200):\n",
    "\n",
    "    h = model(train_g, train_g.ndata[\"objects\"])\n",
    "    pos_score = pred(train_pos_g, h)\n",
    "    neg_score = pred(train_neg_g, h)\n",
    "    loss = compute_loss(pos_score, neg_score)\n",
    "    \n",
    "    optimizer.zero_grad()\n",
    "    loss.backward()\n",
    "    optimizer.step()\n",
    "    f1_sc = compute_f1(torch.sigmoid(pos_score), torch.sigmoid(neg_score))\n",
    "    if e % 10 == 0:\n",
    "        print(\"In epoch {}, loss: {}\".format(e, round(loss.item(), 5)))\n",
    "    loss_values.append(loss.item())\n",
    "    f1_values.append(f1_sc)"
   ]
  },
  {
   "cell_type": "code",
   "execution_count": 441,
   "id": "f5e80c14",
   "metadata": {},
   "outputs": [
    {
     "data": {
      "image/png": "[encoded data removed]",
      "text/plain": [
       "<Figure size 1200x500 with 2 Axes>"
      ]
     },
     "metadata": {},
     "output_type": "display_data"
    }
   ],
   "source": [
    "fig, axs = plt.subplots(1, 2, figsize=(12, 5))\n",
    "\n",
    "# первый график\n",
    "axs[0].plot(loss_values, 'blue')\n",
    "axs[0].set_xlabel('Epoch')\n",
    "axs[0].set_ylabel('Loss', color='blue')\n",
    "\n",
    "axs[1].plot(f1_values, 'red')\n",
    "axs[1].set_ylabel('F1-score', color='red')\n",
    "\n",
    "# отображаем графики\n",
    "plt.show()"
   ]
  },
  {
   "cell_type": "code",
   "execution_count": 442,
   "id": "437ecf49",
   "metadata": {},
   "outputs": [
    {
     "name": "stdout",
     "output_type": "stream",
     "text": [
      "Accuracy: 0.58396\n",
      "AUC: 0.63506\n",
      "F1-score: 0.36385\n"
     ]
    }
   ],
   "source": [
    "with torch.no_grad():\n",
    "    pos_score = pred(test_pos_g, h)\n",
    "    neg_score = pred(test_neg_g, h)\n",
    "    pos_prob = torch.sigmoid(pos_score)\n",
    "    neg_prob = torch.sigmoid(neg_score)\n",
    "Acc_ = round(compute_accuracy(pos_score, neg_score), 5)\n",
    "AUC_ = round(compute_auc(pos_score, neg_score), 5)\n",
    "F1_ = round(compute_f1(pos_prob, neg_prob), 5)\n",
    "print (f\"Accuracy: {Acc_}\")\n",
    "print (f\"AUC: {AUC_}\")\n",
    "print (f\"F1-score: {F1_}\")\n",
    "results = results.append(pd.Series(['GCN; DotPredictor', Acc_, F1_, AUC_, '28.6'], index=results.columns), ignore_index=True)"
   ]
  },
  {
   "cell_type": "code",
   "execution_count": 443,
   "id": "81f5a5a1",
   "metadata": {},
   "outputs": [
    {
     "name": "stdout",
     "output_type": "stream",
     "text": [
      "Confusion matrix: \n",
      "[[ 369  959]\n",
      " [ 124 1204]]\n"
     ]
    }
   ],
   "source": [
    "print (f\"Confusion matrix: \\n{compute_conf_matrix(pos_prob, neg_prob)}\")"
   ]
  },
  {
   "cell_type": "code",
   "execution_count": 444,
   "id": "a49a060e",
   "metadata": {},
   "outputs": [
    {
     "data": {
      "image/png": "[encoded data removed]",
      "text/plain": [
       "<Figure size 640x480 with 2 Axes>"
      ]
     },
     "metadata": {},
     "output_type": "display_data"
    }
   ],
   "source": [
    "sns.heatmap(compute_conf_matrix(pos_prob, neg_prob), annot=True)\n",
    "plt.show()"
   ]
  },
  {
   "cell_type": "markdown",
   "id": "a11e93f7",
   "metadata": {},
   "source": [
    "<a id=\"8.2.2\"></a>\n",
    "### <b><span style='color:blue'>|</span> 8.2.2. Функция MLPPredictor</b>"
   ]
  },
  {
   "cell_type": "code",
   "execution_count": 445,
   "id": "17be3b73",
   "metadata": {},
   "outputs": [],
   "source": [
    "model = GCN(train_g.ndata[\"objects\"].shape[1], 16)\n",
    "model = model.double()\n",
    "pred = MLPPredictor(16)"
   ]
  },
  {
   "cell_type": "code",
   "execution_count": 446,
   "id": "fa17ad46",
   "metadata": {},
   "outputs": [],
   "source": [
    "optimizer = torch.optim.Adam(\n",
    "    itertools.chain(model.parameters(), pred.parameters()), lr=0.02\n",
    ")"
   ]
  },
  {
   "cell_type": "code",
   "execution_count": 447,
   "id": "36af028c",
   "metadata": {},
   "outputs": [
    {
     "name": "stdout",
     "output_type": "stream",
     "text": [
      "In epoch 0, loss: 0.69364\n",
      "In epoch 5, loss: 0.67036\n",
      "In epoch 10, loss: 0.56408\n",
      "In epoch 15, loss: 0.49702\n",
      "In epoch 20, loss: 0.43743\n",
      "In epoch 25, loss: 0.386\n",
      "In epoch 30, loss: 0.35314\n",
      "In epoch 35, loss: 0.34419\n",
      "In epoch 40, loss: 0.33592\n",
      "In epoch 45, loss: 0.32307\n",
      "In epoch 50, loss: 0.31621\n",
      "In epoch 55, loss: 0.30841\n",
      "In epoch 60, loss: 0.30248\n",
      "In epoch 65, loss: 0.29643\n",
      "In epoch 70, loss: 0.28939\n",
      "In epoch 75, loss: 0.28131\n",
      "In epoch 80, loss: 0.27209\n",
      "In epoch 85, loss: 0.26363\n",
      "In epoch 90, loss: 0.25713\n",
      "In epoch 95, loss: 0.25234\n",
      "In epoch 100, loss: 0.24549\n",
      "In epoch 105, loss: 0.24218\n",
      "In epoch 110, loss: 0.2374\n",
      "In epoch 115, loss: 0.23398\n",
      "In epoch 120, loss: 0.2309\n",
      "In epoch 125, loss: 0.22789\n",
      "In epoch 130, loss: 0.22521\n",
      "In epoch 135, loss: 0.22295\n",
      "In epoch 140, loss: 0.22076\n",
      "In epoch 145, loss: 0.21837\n",
      "Wall time: 22.7 s\n"
     ]
    }
   ],
   "source": [
    "%%time\n",
    "loss_values = []\n",
    "f1_values = []\n",
    "for e in range(150):\n",
    "    \n",
    "    h = model(train_g, train_g.ndata[\"objects\"])\n",
    "    pos_score = pred(train_pos_g, h)\n",
    "    neg_score = pred(train_neg_g, h)\n",
    "    loss = compute_loss(pos_score, neg_score)\n",
    "    \n",
    "    optimizer.zero_grad()\n",
    "    loss.backward()\n",
    "    optimizer.step()\n",
    "    f1_sc = compute_f1(torch.sigmoid(pos_score), torch.sigmoid(neg_score))\n",
    "    if e % 5 == 0:\n",
    "        print(\"In epoch {}, loss: {}\".format(e, round(loss.item(), 5)))\n",
    "    loss_values.append(loss.item())\n",
    "    f1_values.append(f1_sc)"
   ]
  },
  {
   "cell_type": "code",
   "execution_count": 448,
   "id": "d18263ae",
   "metadata": {},
   "outputs": [
    {
     "data": {
      "image/png": "[encoded data removed]",
      "text/plain": [
       "<Figure size 1200x500 with 2 Axes>"
      ]
     },
     "metadata": {},
     "output_type": "display_data"
    }
   ],
   "source": [
    "fig, axs = plt.subplots(1, 2, figsize=(12, 5))\n",
    "\n",
    "# первый график\n",
    "axs[0].plot(loss_values, 'blue')\n",
    "axs[0].set_xlabel('Epoch')\n",
    "axs[0].set_ylabel('Loss', color='blue')\n",
    "\n",
    "axs[1].plot(f1_values, 'red')\n",
    "axs[1].set_ylabel('F1-score', color='red')\n",
    "\n",
    "# отображаем графики\n",
    "plt.show()"
   ]
  },
  {
   "cell_type": "code",
   "execution_count": 449,
   "id": "23b4a1b1",
   "metadata": {},
   "outputs": [
    {
     "name": "stdout",
     "output_type": "stream",
     "text": [
      "Accuracy: 0.81702\n",
      "AUC: 0.8553\n",
      "F1-score: 0.80451\n"
     ]
    }
   ],
   "source": [
    "with torch.no_grad():\n",
    "    pos_score = pred(test_pos_g, h)\n",
    "    neg_score = pred(test_neg_g, h)\n",
    "    pos_prob = torch.sigmoid(pos_score)\n",
    "    neg_prob = torch.sigmoid(neg_score)\n",
    "Acc_ = round(compute_accuracy(pos_score, neg_score), 5)\n",
    "AUC_ = round(compute_auc(pos_score, neg_score), 5)\n",
    "F1_ = round(compute_f1(pos_prob, neg_prob), 5)\n",
    "print (f\"Accuracy: {Acc_}\")\n",
    "print (f\"AUC: {AUC_}\")\n",
    "print (f\"F1-score: {F1_}\")\n",
    "results = results.append(pd.Series(['GCN; MLPPredictor', Acc_, F1_, AUC_, '22.7'], index=results.columns), ignore_index=True)"
   ]
  },
  {
   "cell_type": "code",
   "execution_count": 450,
   "id": "33375f1c",
   "metadata": {},
   "outputs": [
    {
     "name": "stdout",
     "output_type": "stream",
     "text": [
      "Confusion matrix: \n",
      "[[1144  184]\n",
      " [ 292 1036]]\n"
     ]
    }
   ],
   "source": [
    "print (f\"Confusion matrix: \\n{compute_conf_matrix(pos_prob, neg_prob)}\")"
   ]
  },
  {
   "cell_type": "code",
   "execution_count": 451,
   "id": "193e4a2f",
   "metadata": {},
   "outputs": [
    {
     "data": {
      "image/png": "[encoded data removed]",
      "text/plain": [
       "<Figure size 640x480 with 2 Axes>"
      ]
     },
     "metadata": {},
     "output_type": "display_data"
    }
   ],
   "source": [
    "sns.heatmap(compute_conf_matrix(pos_prob, neg_prob), annot=True)\n",
    "plt.show()"
   ]
  },
  {
   "cell_type": "markdown",
   "id": "26c212c2",
   "metadata": {},
   "source": [
    "<a id=\"9\"></a>\n",
    "# <b><span style='color:blue'>|</span> 9. Сравнение результатов</b>\n",
    "* [К оглавлению](#0)"
   ]
  },
  {
   "cell_type": "code",
   "execution_count": 452,
   "id": "1f95677b",
   "metadata": {},
   "outputs": [
    {
     "data": {
      "text/html": [
       "<div>\n",
       "<style scoped>\n",
       "    .dataframe tbody tr th:only-of-type {\n",
       "        vertical-align: middle;\n",
       "    }\n",
       "\n",
       "    .dataframe tbody tr th {\n",
       "        vertical-align: top;\n",
       "    }\n",
       "\n",
       "    .dataframe thead th {\n",
       "        text-align: right;\n",
       "    }\n",
       "</style>\n",
       "<table border=\"1\" class=\"dataframe\">\n",
       "  <thead>\n",
       "    <tr style=\"text-align: right;\">\n",
       "      <th></th>\n",
       "      <th>Name</th>\n",
       "      <th>Accuracy</th>\n",
       "      <th>F1</th>\n",
       "      <th>AUC</th>\n",
       "      <th>time (s)</th>\n",
       "    </tr>\n",
       "  </thead>\n",
       "  <tbody>\n",
       "    <tr>\n",
       "      <th>0</th>\n",
       "      <td>GraphSAGE; DotPredictor</td>\n",
       "      <td>0.70369</td>\n",
       "      <td>0.74154</td>\n",
       "      <td>0.77652</td>\n",
       "      <td>13.7</td>\n",
       "    </tr>\n",
       "    <tr>\n",
       "      <th>1</th>\n",
       "      <td>GraphSAGE; MLPPredictor</td>\n",
       "      <td>0.93599</td>\n",
       "      <td>0.93556</td>\n",
       "      <td>0.97294</td>\n",
       "      <td>6.09</td>\n",
       "    </tr>\n",
       "    <tr>\n",
       "      <th>2</th>\n",
       "      <td>GCN; DotPredictor</td>\n",
       "      <td>0.58396</td>\n",
       "      <td>0.36385</td>\n",
       "      <td>0.63506</td>\n",
       "      <td>28.6</td>\n",
       "    </tr>\n",
       "    <tr>\n",
       "      <th>3</th>\n",
       "      <td>GCN; MLPPredictor</td>\n",
       "      <td>0.81702</td>\n",
       "      <td>0.80451</td>\n",
       "      <td>0.85530</td>\n",
       "      <td>22.7</td>\n",
       "    </tr>\n",
       "  </tbody>\n",
       "</table>\n",
       "</div>"
      ],
      "text/plain": [
       "                      Name  Accuracy       F1      AUC time (s)\n",
       "0  GraphSAGE; DotPredictor   0.70369  0.74154  0.77652     13.7\n",
       "1  GraphSAGE; MLPPredictor   0.93599  0.93556  0.97294     6.09\n",
       "2        GCN; DotPredictor   0.58396  0.36385  0.63506     28.6\n",
       "3        GCN; MLPPredictor   0.81702  0.80451  0.85530     22.7"
      ]
     },
     "execution_count": 452,
     "metadata": {},
     "output_type": "execute_result"
    }
   ],
   "source": [
    "results"
   ]
  },
  {
   "cell_type": "markdown",
   "id": "2dc72ddf",
   "metadata": {},
   "source": [
    "Наилучший результат на тестовой выборке показывает модель GraphSAGE в связке с функцией MLPProdictor. Также алгоритм выполнялся быстрее остальных. "
   ]
  },
  {
   "cell_type": "markdown",
   "id": "0da5c388",
   "metadata": {},
   "source": [
    "<a id=\"10\"></a>\n",
    "# <b><span style='color:blue'>|</span> 10. Заключение</b>\n",
    "* [К оглавлению](#0)"
   ]
  },
  {
   "cell_type": "markdown",
   "id": "2b5ce9d0",
   "metadata": {},
   "source": [
    "    В данной курсовой работе представлена разработка и построение рекомендательной системы в области закупок с учетом характеристик контракта. Был проведен анализ предметной области, изучены существующие методы и подходы к построению рекомендательных систем, определены характеристики закупок, которые учитывались при построении системы. Был построен граф знаний с помощью библиотеки dgl, обучена с использованием нескольких моделей, проведен анализ построенных моделей с помощью различных метрик и выбрано оптимальное решение.\n",
    "    \n",
    "    Опираясь на результаты, можно сказать, что модель GraphSAGE показывает наилучшие результаты, а также является оптимальным по времени. Использование функции MLPPredictor для получения для каждого ребра оценок, предсказывающих, есть ли связь между узлами, исходя из результат метрик является оптимальным.\n",
    "    \n",
    "    Таким образом, можно заключить, что данная работа имеет практическую значимость для получения рекомендаций контрагентов на основе характеристик закупок. Дальнейшее развитие исследования может быть связано с применением других, более сложных, моделей, использованием иных характеристик закупок, увеличением объема данных."
   ]
  },
  {
   "cell_type": "code",
   "execution_count": null,
   "id": "63b575b4",
   "metadata": {},
   "outputs": [],
   "source": []
  }
 ],
 "metadata": {
  "kernelspec": {
   "display_name": "Python 3 (ipykernel)",
   "language": "python",
   "name": "python3"
  },
  "language_info": {
   "codemirror_mode": {
    "name": "ipython",
    "version": 3
   },
   "file_extension": ".py",
   "mimetype": "text/x-python",
   "name": "python",
   "nbconvert_exporter": "python",
   "pygments_lexer": "ipython3",
   "version": "3.9.13"
  }
 },
 "nbformat": 4,
 "nbformat_minor": 5
}
